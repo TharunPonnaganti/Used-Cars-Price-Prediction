{
 "cells": [
  {
   "cell_type": "code",
   "execution_count": 1,
   "metadata": {},
   "outputs": [],
   "source": [
    "import numpy as np\n",
    "import pandas as pd\n",
    "import matplotlib.pyplot as plt\n",
    "import seaborn as sns\n",
    "from sklearn.linear_model import LinearRegression\n",
    "from sklearn.model_selection import train_test_split\n",
    "from sklearn.metrics import mean_absolute_error, mean_squared_error"
   ]
  },
  {
   "cell_type": "code",
   "execution_count": 2,
   "metadata": {},
   "outputs": [],
   "source": [
    "train = pd.read_csv('Training Data Set.csv')\n",
    "test = pd.read_csv('Test Data Set.csv')"
   ]
  },
  {
   "cell_type": "code",
   "execution_count": 3,
   "metadata": {},
   "outputs": [
    {
     "data": {
      "text/html": [
       "<div>\n",
       "<style scoped>\n",
       "    .dataframe tbody tr th:only-of-type {\n",
       "        vertical-align: middle;\n",
       "    }\n",
       "\n",
       "    .dataframe tbody tr th {\n",
       "        vertical-align: top;\n",
       "    }\n",
       "\n",
       "    .dataframe thead th {\n",
       "        text-align: right;\n",
       "    }\n",
       "</style>\n",
       "<table border=\"1\" class=\"dataframe\">\n",
       "  <thead>\n",
       "    <tr style=\"text-align: right;\">\n",
       "      <th></th>\n",
       "      <th>Id</th>\n",
       "      <th>Maker</th>\n",
       "      <th>model</th>\n",
       "      <th>Location</th>\n",
       "      <th>Distance</th>\n",
       "      <th>Owner Type</th>\n",
       "      <th>manufacture_year</th>\n",
       "      <th>Age of car</th>\n",
       "      <th>engine_displacement</th>\n",
       "      <th>engine_power</th>\n",
       "      <th>body_type</th>\n",
       "      <th>Vroom Audit Rating</th>\n",
       "      <th>transmission</th>\n",
       "      <th>door_count</th>\n",
       "      <th>seat_count</th>\n",
       "      <th>fuel_type</th>\n",
       "      <th>Price</th>\n",
       "    </tr>\n",
       "  </thead>\n",
       "  <tbody>\n",
       "    <tr>\n",
       "      <td>0</td>\n",
       "      <td>25001</td>\n",
       "      <td>skoda</td>\n",
       "      <td>octavia</td>\n",
       "      <td>Ahmedabad</td>\n",
       "      <td>NaN</td>\n",
       "      <td>Second</td>\n",
       "      <td>1964</td>\n",
       "      <td>55</td>\n",
       "      <td>1964</td>\n",
       "      <td>147.0</td>\n",
       "      <td>compact</td>\n",
       "      <td>8</td>\n",
       "      <td>man</td>\n",
       "      <td>None</td>\n",
       "      <td>None</td>\n",
       "      <td>petrol</td>\n",
       "      <td>543764.25</td>\n",
       "    </tr>\n",
       "    <tr>\n",
       "      <td>1</td>\n",
       "      <td>25002</td>\n",
       "      <td>fiat</td>\n",
       "      <td>panda</td>\n",
       "      <td>Ahmedabad</td>\n",
       "      <td>27750.0</td>\n",
       "      <td>Third</td>\n",
       "      <td>2012</td>\n",
       "      <td>7</td>\n",
       "      <td>1242</td>\n",
       "      <td>51.0</td>\n",
       "      <td>NaN</td>\n",
       "      <td>6</td>\n",
       "      <td>man</td>\n",
       "      <td>4</td>\n",
       "      <td>4</td>\n",
       "      <td>petrol</td>\n",
       "      <td>401819.25</td>\n",
       "    </tr>\n",
       "    <tr>\n",
       "      <td>2</td>\n",
       "      <td>25003</td>\n",
       "      <td>bmw</td>\n",
       "      <td>x1</td>\n",
       "      <td>Hyderabad</td>\n",
       "      <td>46000.0</td>\n",
       "      <td>Third</td>\n",
       "      <td>2014</td>\n",
       "      <td>5</td>\n",
       "      <td>1995</td>\n",
       "      <td>105.0</td>\n",
       "      <td>NaN</td>\n",
       "      <td>7</td>\n",
       "      <td>auto</td>\n",
       "      <td>4</td>\n",
       "      <td>5</td>\n",
       "      <td>diesel</td>\n",
       "      <td>2392855.50</td>\n",
       "    </tr>\n",
       "    <tr>\n",
       "      <td>3</td>\n",
       "      <td>25004</td>\n",
       "      <td>nissan</td>\n",
       "      <td>juke</td>\n",
       "      <td>Mumbai</td>\n",
       "      <td>43949.0</td>\n",
       "      <td>Third</td>\n",
       "      <td>2011</td>\n",
       "      <td>8</td>\n",
       "      <td>1618</td>\n",
       "      <td>140.0</td>\n",
       "      <td>NaN</td>\n",
       "      <td>7</td>\n",
       "      <td>man</td>\n",
       "      <td>4</td>\n",
       "      <td>5</td>\n",
       "      <td>petrol</td>\n",
       "      <td>958606.50</td>\n",
       "    </tr>\n",
       "    <tr>\n",
       "      <td>4</td>\n",
       "      <td>25005</td>\n",
       "      <td>bmw</td>\n",
       "      <td>x5</td>\n",
       "      <td>Jaipur</td>\n",
       "      <td>59524.0</td>\n",
       "      <td>Fourth &amp; Above</td>\n",
       "      <td>2012</td>\n",
       "      <td>7</td>\n",
       "      <td>2993</td>\n",
       "      <td>180.0</td>\n",
       "      <td>NaN</td>\n",
       "      <td>7</td>\n",
       "      <td>auto</td>\n",
       "      <td>4</td>\n",
       "      <td>5</td>\n",
       "      <td>diesel</td>\n",
       "      <td>3085561.50</td>\n",
       "    </tr>\n",
       "  </tbody>\n",
       "</table>\n",
       "</div>"
      ],
      "text/plain": [
       "      Id   Maker    model   Location  Distance       Owner Type  \\\n",
       "0  25001   skoda  octavia  Ahmedabad        NaN          Second   \n",
       "1  25002    fiat    panda  Ahmedabad    27750.0           Third   \n",
       "2  25003     bmw       x1  Hyderabad    46000.0           Third   \n",
       "3  25004  nissan     juke     Mumbai    43949.0           Third   \n",
       "4  25005     bmw       x5     Jaipur    59524.0  Fourth & Above   \n",
       "\n",
       "   manufacture_year  Age of car  engine_displacement  engine_power body_type  \\\n",
       "0              1964          55                 1964         147.0   compact   \n",
       "1              2012           7                 1242          51.0       NaN   \n",
       "2              2014           5                 1995         105.0       NaN   \n",
       "3              2011           8                 1618         140.0       NaN   \n",
       "4              2012           7                 2993         180.0       NaN   \n",
       "\n",
       "   Vroom Audit Rating transmission door_count seat_count fuel_type       Price  \n",
       "0                   8          man       None       None    petrol   543764.25  \n",
       "1                   6          man          4          4    petrol   401819.25  \n",
       "2                   7         auto          4          5    diesel  2392855.50  \n",
       "3                   7          man          4          5    petrol   958606.50  \n",
       "4                   7         auto          4          5    diesel  3085561.50  "
      ]
     },
     "execution_count": 3,
     "metadata": {},
     "output_type": "execute_result"
    }
   ],
   "source": [
    "train.head()"
   ]
  },
  {
   "cell_type": "code",
   "execution_count": 4,
   "metadata": {},
   "outputs": [
    {
     "data": {
      "text/html": [
       "<div>\n",
       "<style scoped>\n",
       "    .dataframe tbody tr th:only-of-type {\n",
       "        vertical-align: middle;\n",
       "    }\n",
       "\n",
       "    .dataframe tbody tr th {\n",
       "        vertical-align: top;\n",
       "    }\n",
       "\n",
       "    .dataframe thead th {\n",
       "        text-align: right;\n",
       "    }\n",
       "</style>\n",
       "<table border=\"1\" class=\"dataframe\">\n",
       "  <thead>\n",
       "    <tr style=\"text-align: right;\">\n",
       "      <th></th>\n",
       "      <th>Id</th>\n",
       "      <th>Maker</th>\n",
       "      <th>model</th>\n",
       "      <th>Location</th>\n",
       "      <th>Distance</th>\n",
       "      <th>Owner Type</th>\n",
       "      <th>manufacture_year</th>\n",
       "      <th>Age of car</th>\n",
       "      <th>engine_displacement</th>\n",
       "      <th>engine_power</th>\n",
       "      <th>body_type</th>\n",
       "      <th>Vroom Audit Rating</th>\n",
       "      <th>transmission</th>\n",
       "      <th>door_count</th>\n",
       "      <th>seat_count</th>\n",
       "      <th>fuel_type</th>\n",
       "    </tr>\n",
       "  </thead>\n",
       "  <tbody>\n",
       "    <tr>\n",
       "      <td>0</td>\n",
       "      <td>11001</td>\n",
       "      <td>skoda</td>\n",
       "      <td>octavia</td>\n",
       "      <td>Mumbai</td>\n",
       "      <td>150000.0</td>\n",
       "      <td>First</td>\n",
       "      <td>2007</td>\n",
       "      <td>12</td>\n",
       "      <td>1595</td>\n",
       "      <td>75.0</td>\n",
       "      <td>NaN</td>\n",
       "      <td>5</td>\n",
       "      <td>man</td>\n",
       "      <td>4</td>\n",
       "      <td>5</td>\n",
       "      <td>petrol</td>\n",
       "    </tr>\n",
       "    <tr>\n",
       "      <td>1</td>\n",
       "      <td>11002</td>\n",
       "      <td>skoda</td>\n",
       "      <td>rapid</td>\n",
       "      <td>Coimbatore</td>\n",
       "      <td>29376.0</td>\n",
       "      <td>Third</td>\n",
       "      <td>2014</td>\n",
       "      <td>5</td>\n",
       "      <td>1598</td>\n",
       "      <td>77.0</td>\n",
       "      <td>NaN</td>\n",
       "      <td>4</td>\n",
       "      <td>man</td>\n",
       "      <td>4</td>\n",
       "      <td>5</td>\n",
       "      <td>diesel</td>\n",
       "    </tr>\n",
       "    <tr>\n",
       "      <td>2</td>\n",
       "      <td>11003</td>\n",
       "      <td>skoda</td>\n",
       "      <td>octavia</td>\n",
       "      <td>Coimbatore</td>\n",
       "      <td>30563.0</td>\n",
       "      <td>Second</td>\n",
       "      <td>2014</td>\n",
       "      <td>5</td>\n",
       "      <td>1968</td>\n",
       "      <td>110.0</td>\n",
       "      <td>NaN</td>\n",
       "      <td>5</td>\n",
       "      <td>man</td>\n",
       "      <td>5</td>\n",
       "      <td>5</td>\n",
       "      <td>diesel</td>\n",
       "    </tr>\n",
       "    <tr>\n",
       "      <td>3</td>\n",
       "      <td>11004</td>\n",
       "      <td>audi</td>\n",
       "      <td>q3</td>\n",
       "      <td>Delhi</td>\n",
       "      <td>8650.0</td>\n",
       "      <td>Fourth &amp; Above</td>\n",
       "      <td>2015</td>\n",
       "      <td>4</td>\n",
       "      <td>1968</td>\n",
       "      <td>110.0</td>\n",
       "      <td>NaN</td>\n",
       "      <td>8</td>\n",
       "      <td>auto</td>\n",
       "      <td>4</td>\n",
       "      <td>5</td>\n",
       "      <td>diesel</td>\n",
       "    </tr>\n",
       "    <tr>\n",
       "      <td>4</td>\n",
       "      <td>11005</td>\n",
       "      <td>audi</td>\n",
       "      <td>tt</td>\n",
       "      <td>Chennai</td>\n",
       "      <td>6400.0</td>\n",
       "      <td>Third</td>\n",
       "      <td>2015</td>\n",
       "      <td>4</td>\n",
       "      <td>1984</td>\n",
       "      <td>169.0</td>\n",
       "      <td>NaN</td>\n",
       "      <td>4</td>\n",
       "      <td>auto</td>\n",
       "      <td>2</td>\n",
       "      <td>None</td>\n",
       "      <td>petrol</td>\n",
       "    </tr>\n",
       "  </tbody>\n",
       "</table>\n",
       "</div>"
      ],
      "text/plain": [
       "      Id  Maker    model    Location  Distance       Owner Type  \\\n",
       "0  11001  skoda  octavia      Mumbai   150000.0           First   \n",
       "1  11002  skoda    rapid  Coimbatore    29376.0           Third   \n",
       "2  11003  skoda  octavia  Coimbatore    30563.0          Second   \n",
       "3  11004   audi       q3       Delhi     8650.0  Fourth & Above   \n",
       "4  11005   audi       tt     Chennai     6400.0           Third   \n",
       "\n",
       "   manufacture_year  Age of car  engine_displacement  engine_power body_type  \\\n",
       "0              2007          12                 1595          75.0       NaN   \n",
       "1              2014           5                 1598          77.0       NaN   \n",
       "2              2014           5                 1968         110.0       NaN   \n",
       "3              2015           4                 1968         110.0       NaN   \n",
       "4              2015           4                 1984         169.0       NaN   \n",
       "\n",
       "   Vroom Audit Rating transmission door_count seat_count fuel_type  \n",
       "0                   5          man          4          5    petrol  \n",
       "1                   4          man          4          5    diesel  \n",
       "2                   5          man          5          5    diesel  \n",
       "3                   8         auto          4          5    diesel  \n",
       "4                   4         auto          2       None    petrol  "
      ]
     },
     "execution_count": 4,
     "metadata": {},
     "output_type": "execute_result"
    }
   ],
   "source": [
    "test.head()"
   ]
  },
  {
   "cell_type": "code",
   "execution_count": 5,
   "metadata": {},
   "outputs": [],
   "source": [
    "train['data'] = 'Train'\n",
    "test['data'] = 'Test'"
   ]
  },
  {
   "cell_type": "code",
   "execution_count": 6,
   "metadata": {},
   "outputs": [
    {
     "data": {
      "text/plain": [
       "Id                         0\n",
       "Maker                      0\n",
       "model                      0\n",
       "Location                   0\n",
       "Distance                1211\n",
       "Owner Type                 0\n",
       "manufacture_year           0\n",
       "Age of car                 0\n",
       "engine_displacement        0\n",
       "engine_power            1439\n",
       "body_type              49379\n",
       "Vroom Audit Rating         0\n",
       "transmission               0\n",
       "door_count                 0\n",
       "seat_count                 0\n",
       "fuel_type                  0\n",
       "Price                      0\n",
       "data                       0\n",
       "dtype: int64"
      ]
     },
     "execution_count": 6,
     "metadata": {},
     "output_type": "execute_result"
    }
   ],
   "source": [
    "train.isnull().sum()"
   ]
  },
  {
   "cell_type": "code",
   "execution_count": 7,
   "metadata": {},
   "outputs": [
    {
     "data": {
      "text/plain": [
       "Id                        0\n",
       "Maker                     0\n",
       "model                     0\n",
       "Location                  0\n",
       "Distance                128\n",
       "Owner Type                0\n",
       "manufacture_year          0\n",
       "Age of car                0\n",
       "engine_displacement       0\n",
       "engine_power            168\n",
       "body_type              5193\n",
       "Vroom Audit Rating        0\n",
       "transmission              0\n",
       "door_count                0\n",
       "seat_count                0\n",
       "fuel_type                 0\n",
       "data                      0\n",
       "dtype: int64"
      ]
     },
     "execution_count": 7,
     "metadata": {},
     "output_type": "execute_result"
    }
   ],
   "source": [
    "test.isnull().sum()"
   ]
  },
  {
   "cell_type": "code",
   "execution_count": 8,
   "metadata": {},
   "outputs": [],
   "source": [
    "# removing body_type as it is haivng 92% missing values\n",
    "train.drop(['body_type'],axis=1,inplace=True)\n",
    "test.drop(['body_type'],axis=1,inplace=True)"
   ]
  },
  {
   "cell_type": "code",
   "execution_count": 9,
   "metadata": {},
   "outputs": [
    {
     "data": {
      "text/plain": [
       "Id                       0\n",
       "Maker                    0\n",
       "model                    0\n",
       "Location                 0\n",
       "Distance               128\n",
       "Owner Type               0\n",
       "manufacture_year         0\n",
       "Age of car               0\n",
       "engine_displacement      0\n",
       "engine_power           168\n",
       "Vroom Audit Rating       0\n",
       "transmission             0\n",
       "door_count               0\n",
       "seat_count               0\n",
       "fuel_type                0\n",
       "data                     0\n",
       "dtype: int64"
      ]
     },
     "execution_count": 9,
     "metadata": {},
     "output_type": "execute_result"
    }
   ],
   "source": [
    "test.isnull().sum()"
   ]
  },
  {
   "cell_type": "code",
   "execution_count": 10,
   "metadata": {},
   "outputs": [
    {
     "data": {
      "text/plain": [
       "Id                        0\n",
       "Maker                     0\n",
       "model                     0\n",
       "Location                  0\n",
       "Distance               1211\n",
       "Owner Type                0\n",
       "manufacture_year          0\n",
       "Age of car                0\n",
       "engine_displacement       0\n",
       "engine_power           1439\n",
       "Vroom Audit Rating        0\n",
       "transmission              0\n",
       "door_count                0\n",
       "seat_count                0\n",
       "fuel_type                 0\n",
       "Price                     0\n",
       "data                      0\n",
       "dtype: int64"
      ]
     },
     "execution_count": 10,
     "metadata": {},
     "output_type": "execute_result"
    }
   ],
   "source": [
    "train.isnull().sum()"
   ]
  },
  {
   "cell_type": "code",
   "execution_count": 11,
   "metadata": {},
   "outputs": [],
   "source": [
    "test['Price'] = np.nan"
   ]
  },
  {
   "cell_type": "code",
   "execution_count": 12,
   "metadata": {},
   "outputs": [
    {
     "data": {
      "text/plain": [
       "(53515, 17)"
      ]
     },
     "execution_count": 12,
     "metadata": {},
     "output_type": "execute_result"
    }
   ],
   "source": [
    "train.shape"
   ]
  },
  {
   "cell_type": "code",
   "execution_count": 13,
   "metadata": {},
   "outputs": [
    {
     "data": {
      "text/plain": [
       "(5615, 17)"
      ]
     },
     "execution_count": 13,
     "metadata": {},
     "output_type": "execute_result"
    }
   ],
   "source": [
    "test.shape"
   ]
  },
  {
   "cell_type": "code",
   "execution_count": 14,
   "metadata": {},
   "outputs": [
    {
     "name": "stderr",
     "output_type": "stream",
     "text": [
      "C:\\ProgramData\\Anaconda3\\lib\\site-packages\\ipykernel_launcher.py:1: FutureWarning: Sorting because non-concatenation axis is not aligned. A future version\n",
      "of pandas will change to not sort by default.\n",
      "\n",
      "To accept the future behavior, pass 'sort=False'.\n",
      "\n",
      "To retain the current behavior and silence the warning, pass 'sort=True'.\n",
      "\n",
      "  \"\"\"Entry point for launching an IPython kernel.\n"
     ]
    }
   ],
   "source": [
    "df = pd.concat((train,test),axis=0)"
   ]
  },
  {
   "cell_type": "code",
   "execution_count": 15,
   "metadata": {},
   "outputs": [
    {
     "data": {
      "text/html": [
       "<div>\n",
       "<style scoped>\n",
       "    .dataframe tbody tr th:only-of-type {\n",
       "        vertical-align: middle;\n",
       "    }\n",
       "\n",
       "    .dataframe tbody tr th {\n",
       "        vertical-align: top;\n",
       "    }\n",
       "\n",
       "    .dataframe thead th {\n",
       "        text-align: right;\n",
       "    }\n",
       "</style>\n",
       "<table border=\"1\" class=\"dataframe\">\n",
       "  <thead>\n",
       "    <tr style=\"text-align: right;\">\n",
       "      <th></th>\n",
       "      <th>Age of car</th>\n",
       "      <th>Distance</th>\n",
       "      <th>Id</th>\n",
       "      <th>Location</th>\n",
       "      <th>Maker</th>\n",
       "      <th>Owner Type</th>\n",
       "      <th>Price</th>\n",
       "      <th>Vroom Audit Rating</th>\n",
       "      <th>data</th>\n",
       "      <th>door_count</th>\n",
       "      <th>engine_displacement</th>\n",
       "      <th>engine_power</th>\n",
       "      <th>fuel_type</th>\n",
       "      <th>manufacture_year</th>\n",
       "      <th>model</th>\n",
       "      <th>seat_count</th>\n",
       "      <th>transmission</th>\n",
       "    </tr>\n",
       "  </thead>\n",
       "  <tbody>\n",
       "    <tr>\n",
       "      <td>0</td>\n",
       "      <td>55</td>\n",
       "      <td>NaN</td>\n",
       "      <td>25001</td>\n",
       "      <td>Ahmedabad</td>\n",
       "      <td>skoda</td>\n",
       "      <td>Second</td>\n",
       "      <td>543764.25</td>\n",
       "      <td>8</td>\n",
       "      <td>Train</td>\n",
       "      <td>None</td>\n",
       "      <td>1964</td>\n",
       "      <td>147.0</td>\n",
       "      <td>petrol</td>\n",
       "      <td>1964</td>\n",
       "      <td>octavia</td>\n",
       "      <td>None</td>\n",
       "      <td>man</td>\n",
       "    </tr>\n",
       "    <tr>\n",
       "      <td>1</td>\n",
       "      <td>7</td>\n",
       "      <td>27750.0</td>\n",
       "      <td>25002</td>\n",
       "      <td>Ahmedabad</td>\n",
       "      <td>fiat</td>\n",
       "      <td>Third</td>\n",
       "      <td>401819.25</td>\n",
       "      <td>6</td>\n",
       "      <td>Train</td>\n",
       "      <td>4</td>\n",
       "      <td>1242</td>\n",
       "      <td>51.0</td>\n",
       "      <td>petrol</td>\n",
       "      <td>2012</td>\n",
       "      <td>panda</td>\n",
       "      <td>4</td>\n",
       "      <td>man</td>\n",
       "    </tr>\n",
       "    <tr>\n",
       "      <td>2</td>\n",
       "      <td>5</td>\n",
       "      <td>46000.0</td>\n",
       "      <td>25003</td>\n",
       "      <td>Hyderabad</td>\n",
       "      <td>bmw</td>\n",
       "      <td>Third</td>\n",
       "      <td>2392855.50</td>\n",
       "      <td>7</td>\n",
       "      <td>Train</td>\n",
       "      <td>4</td>\n",
       "      <td>1995</td>\n",
       "      <td>105.0</td>\n",
       "      <td>diesel</td>\n",
       "      <td>2014</td>\n",
       "      <td>x1</td>\n",
       "      <td>5</td>\n",
       "      <td>auto</td>\n",
       "    </tr>\n",
       "    <tr>\n",
       "      <td>3</td>\n",
       "      <td>8</td>\n",
       "      <td>43949.0</td>\n",
       "      <td>25004</td>\n",
       "      <td>Mumbai</td>\n",
       "      <td>nissan</td>\n",
       "      <td>Third</td>\n",
       "      <td>958606.50</td>\n",
       "      <td>7</td>\n",
       "      <td>Train</td>\n",
       "      <td>4</td>\n",
       "      <td>1618</td>\n",
       "      <td>140.0</td>\n",
       "      <td>petrol</td>\n",
       "      <td>2011</td>\n",
       "      <td>juke</td>\n",
       "      <td>5</td>\n",
       "      <td>man</td>\n",
       "    </tr>\n",
       "    <tr>\n",
       "      <td>4</td>\n",
       "      <td>7</td>\n",
       "      <td>59524.0</td>\n",
       "      <td>25005</td>\n",
       "      <td>Jaipur</td>\n",
       "      <td>bmw</td>\n",
       "      <td>Fourth &amp; Above</td>\n",
       "      <td>3085561.50</td>\n",
       "      <td>7</td>\n",
       "      <td>Train</td>\n",
       "      <td>4</td>\n",
       "      <td>2993</td>\n",
       "      <td>180.0</td>\n",
       "      <td>diesel</td>\n",
       "      <td>2012</td>\n",
       "      <td>x5</td>\n",
       "      <td>5</td>\n",
       "      <td>auto</td>\n",
       "    </tr>\n",
       "  </tbody>\n",
       "</table>\n",
       "</div>"
      ],
      "text/plain": [
       "   Age of car  Distance      Id   Location   Maker      Owner Type  \\\n",
       "0          55        NaN  25001  Ahmedabad   skoda          Second   \n",
       "1           7    27750.0  25002  Ahmedabad    fiat           Third   \n",
       "2           5    46000.0  25003  Hyderabad     bmw           Third   \n",
       "3           8    43949.0  25004     Mumbai  nissan           Third   \n",
       "4           7    59524.0  25005     Jaipur     bmw  Fourth & Above   \n",
       "\n",
       "        Price  Vroom Audit Rating   data door_count  engine_displacement  \\\n",
       "0   543764.25                   8  Train       None                 1964   \n",
       "1   401819.25                   6  Train          4                 1242   \n",
       "2  2392855.50                   7  Train          4                 1995   \n",
       "3   958606.50                   7  Train          4                 1618   \n",
       "4  3085561.50                   7  Train          4                 2993   \n",
       "\n",
       "   engine_power fuel_type  manufacture_year    model seat_count transmission  \n",
       "0         147.0    petrol              1964  octavia       None          man  \n",
       "1          51.0    petrol              2012    panda          4          man  \n",
       "2         105.0    diesel              2014       x1          5         auto  \n",
       "3         140.0    petrol              2011     juke          5          man  \n",
       "4         180.0    diesel              2012       x5          5         auto  "
      ]
     },
     "execution_count": 15,
     "metadata": {},
     "output_type": "execute_result"
    }
   ],
   "source": [
    "df.head()"
   ]
  },
  {
   "cell_type": "code",
   "execution_count": 16,
   "metadata": {},
   "outputs": [
    {
     "name": "stdout",
     "output_type": "stream",
     "text": [
      "<class 'pandas.core.frame.DataFrame'>\n",
      "Int64Index: 59130 entries, 0 to 5614\n",
      "Data columns (total 17 columns):\n",
      "Age of car             59130 non-null int64\n",
      "Distance               57791 non-null float64\n",
      "Id                     59130 non-null int64\n",
      "Location               59130 non-null object\n",
      "Maker                  59130 non-null object\n",
      "Owner Type             59130 non-null object\n",
      "Price                  53515 non-null float64\n",
      "Vroom Audit Rating     59130 non-null int64\n",
      "data                   59130 non-null object\n",
      "door_count             59130 non-null object\n",
      "engine_displacement    59130 non-null int64\n",
      "engine_power           57523 non-null float64\n",
      "fuel_type              59130 non-null object\n",
      "manufacture_year       59130 non-null int64\n",
      "model                  59130 non-null object\n",
      "seat_count             59130 non-null object\n",
      "transmission           59130 non-null object\n",
      "dtypes: float64(3), int64(5), object(9)\n",
      "memory usage: 8.1+ MB\n"
     ]
    }
   ],
   "source": [
    "df.info()"
   ]
  },
  {
   "cell_type": "code",
   "execution_count": 17,
   "metadata": {},
   "outputs": [],
   "source": [
    "# Removing ID column as it is insignificant\n",
    "df.drop(['Id'],axis=1,inplace=True)"
   ]
  },
  {
   "cell_type": "code",
   "execution_count": 18,
   "metadata": {},
   "outputs": [
    {
     "data": {
      "text/html": [
       "<div>\n",
       "<style scoped>\n",
       "    .dataframe tbody tr th:only-of-type {\n",
       "        vertical-align: middle;\n",
       "    }\n",
       "\n",
       "    .dataframe tbody tr th {\n",
       "        vertical-align: top;\n",
       "    }\n",
       "\n",
       "    .dataframe thead th {\n",
       "        text-align: right;\n",
       "    }\n",
       "</style>\n",
       "<table border=\"1\" class=\"dataframe\">\n",
       "  <thead>\n",
       "    <tr style=\"text-align: right;\">\n",
       "      <th></th>\n",
       "      <th>Age of car</th>\n",
       "      <th>Distance</th>\n",
       "      <th>Location</th>\n",
       "      <th>Maker</th>\n",
       "      <th>Owner Type</th>\n",
       "      <th>Price</th>\n",
       "      <th>Vroom Audit Rating</th>\n",
       "      <th>data</th>\n",
       "      <th>door_count</th>\n",
       "      <th>engine_displacement</th>\n",
       "      <th>engine_power</th>\n",
       "      <th>fuel_type</th>\n",
       "      <th>manufacture_year</th>\n",
       "      <th>model</th>\n",
       "      <th>seat_count</th>\n",
       "      <th>transmission</th>\n",
       "    </tr>\n",
       "  </thead>\n",
       "  <tbody>\n",
       "    <tr>\n",
       "      <td>0</td>\n",
       "      <td>55</td>\n",
       "      <td>NaN</td>\n",
       "      <td>Ahmedabad</td>\n",
       "      <td>skoda</td>\n",
       "      <td>Second</td>\n",
       "      <td>543764.25</td>\n",
       "      <td>8</td>\n",
       "      <td>Train</td>\n",
       "      <td>None</td>\n",
       "      <td>1964</td>\n",
       "      <td>147.0</td>\n",
       "      <td>petrol</td>\n",
       "      <td>1964</td>\n",
       "      <td>octavia</td>\n",
       "      <td>None</td>\n",
       "      <td>man</td>\n",
       "    </tr>\n",
       "    <tr>\n",
       "      <td>1</td>\n",
       "      <td>7</td>\n",
       "      <td>27750.0</td>\n",
       "      <td>Ahmedabad</td>\n",
       "      <td>fiat</td>\n",
       "      <td>Third</td>\n",
       "      <td>401819.25</td>\n",
       "      <td>6</td>\n",
       "      <td>Train</td>\n",
       "      <td>4</td>\n",
       "      <td>1242</td>\n",
       "      <td>51.0</td>\n",
       "      <td>petrol</td>\n",
       "      <td>2012</td>\n",
       "      <td>panda</td>\n",
       "      <td>4</td>\n",
       "      <td>man</td>\n",
       "    </tr>\n",
       "    <tr>\n",
       "      <td>2</td>\n",
       "      <td>5</td>\n",
       "      <td>46000.0</td>\n",
       "      <td>Hyderabad</td>\n",
       "      <td>bmw</td>\n",
       "      <td>Third</td>\n",
       "      <td>2392855.50</td>\n",
       "      <td>7</td>\n",
       "      <td>Train</td>\n",
       "      <td>4</td>\n",
       "      <td>1995</td>\n",
       "      <td>105.0</td>\n",
       "      <td>diesel</td>\n",
       "      <td>2014</td>\n",
       "      <td>x1</td>\n",
       "      <td>5</td>\n",
       "      <td>auto</td>\n",
       "    </tr>\n",
       "    <tr>\n",
       "      <td>3</td>\n",
       "      <td>8</td>\n",
       "      <td>43949.0</td>\n",
       "      <td>Mumbai</td>\n",
       "      <td>nissan</td>\n",
       "      <td>Third</td>\n",
       "      <td>958606.50</td>\n",
       "      <td>7</td>\n",
       "      <td>Train</td>\n",
       "      <td>4</td>\n",
       "      <td>1618</td>\n",
       "      <td>140.0</td>\n",
       "      <td>petrol</td>\n",
       "      <td>2011</td>\n",
       "      <td>juke</td>\n",
       "      <td>5</td>\n",
       "      <td>man</td>\n",
       "    </tr>\n",
       "    <tr>\n",
       "      <td>4</td>\n",
       "      <td>7</td>\n",
       "      <td>59524.0</td>\n",
       "      <td>Jaipur</td>\n",
       "      <td>bmw</td>\n",
       "      <td>Fourth &amp; Above</td>\n",
       "      <td>3085561.50</td>\n",
       "      <td>7</td>\n",
       "      <td>Train</td>\n",
       "      <td>4</td>\n",
       "      <td>2993</td>\n",
       "      <td>180.0</td>\n",
       "      <td>diesel</td>\n",
       "      <td>2012</td>\n",
       "      <td>x5</td>\n",
       "      <td>5</td>\n",
       "      <td>auto</td>\n",
       "    </tr>\n",
       "  </tbody>\n",
       "</table>\n",
       "</div>"
      ],
      "text/plain": [
       "   Age of car  Distance    Location   Maker      Owner Type       Price  \\\n",
       "0          55        NaN  Ahmedabad   skoda          Second   543764.25   \n",
       "1           7    27750.0  Ahmedabad    fiat           Third   401819.25   \n",
       "2           5    46000.0  Hyderabad     bmw           Third  2392855.50   \n",
       "3           8    43949.0     Mumbai  nissan           Third   958606.50   \n",
       "4           7    59524.0     Jaipur     bmw  Fourth & Above  3085561.50   \n",
       "\n",
       "   Vroom Audit Rating   data door_count  engine_displacement  engine_power  \\\n",
       "0                   8  Train       None                 1964         147.0   \n",
       "1                   6  Train          4                 1242          51.0   \n",
       "2                   7  Train          4                 1995         105.0   \n",
       "3                   7  Train          4                 1618         140.0   \n",
       "4                   7  Train          4                 2993         180.0   \n",
       "\n",
       "  fuel_type  manufacture_year    model seat_count transmission  \n",
       "0    petrol              1964  octavia       None          man  \n",
       "1    petrol              2012    panda          4          man  \n",
       "2    diesel              2014       x1          5         auto  \n",
       "3    petrol              2011     juke          5          man  \n",
       "4    diesel              2012       x5          5         auto  "
      ]
     },
     "execution_count": 18,
     "metadata": {},
     "output_type": "execute_result"
    }
   ],
   "source": [
    "df.head()"
   ]
  },
  {
   "cell_type": "code",
   "execution_count": 19,
   "metadata": {},
   "outputs": [
    {
     "data": {
      "text/plain": [
       "Age of car                0\n",
       "Distance               1339\n",
       "Location                  0\n",
       "Maker                     0\n",
       "Owner Type                0\n",
       "Price                  5615\n",
       "Vroom Audit Rating        0\n",
       "data                      0\n",
       "door_count                0\n",
       "engine_displacement       0\n",
       "engine_power           1607\n",
       "fuel_type                 0\n",
       "manufacture_year          0\n",
       "model                     0\n",
       "seat_count                0\n",
       "transmission              0\n",
       "dtype: int64"
      ]
     },
     "execution_count": 19,
     "metadata": {},
     "output_type": "execute_result"
    }
   ],
   "source": [
    "# checking Null values\n",
    "df.isnull().sum()"
   ]
  },
  {
   "cell_type": "code",
   "execution_count": 20,
   "metadata": {},
   "outputs": [],
   "source": [
    "# Null values in price are from test data. so not considering that"
   ]
  },
  {
   "cell_type": "code",
   "execution_count": 21,
   "metadata": {},
   "outputs": [],
   "source": [
    "# Categorical variables are Location, Maker, Owner Type, door_count, fuel_type, model, seat_count, transmission\n",
    "# numerical variables are Age of car, distance, price, Vroom Audit Rating, engine_displacement, engine_power, manufacture_year"
   ]
  },
  {
   "cell_type": "code",
   "execution_count": 22,
   "metadata": {},
   "outputs": [
    {
     "data": {
      "text/plain": [
       "5       42924\n",
       "None     9402\n",
       "4        4922\n",
       "7         934\n",
       "2         804\n",
       "3         117\n",
       "6          23\n",
       "9           2\n",
       "8           1\n",
       "1           1\n",
       "Name: seat_count, dtype: int64"
      ]
     },
     "execution_count": 22,
     "metadata": {},
     "output_type": "execute_result"
    }
   ],
   "source": [
    "df['seat_count'].value_counts()"
   ]
  },
  {
   "cell_type": "code",
   "execution_count": 23,
   "metadata": {},
   "outputs": [
    {
     "data": {
      "text/plain": [
       "4       37391\n",
       "5        8405\n",
       "None     8340\n",
       "2        4779\n",
       "3         204\n",
       "6           9\n",
       "1           2\n",
       "Name: door_count, dtype: int64"
      ]
     },
     "execution_count": 23,
     "metadata": {},
     "output_type": "execute_result"
    }
   ],
   "source": [
    "df['door_count'].value_counts()"
   ]
  },
  {
   "cell_type": "code",
   "execution_count": 24,
   "metadata": {},
   "outputs": [],
   "source": [
    "# we have None values in door_count and seat_count. we must impute these values as well."
   ]
  },
  {
   "cell_type": "code",
   "execution_count": 28,
   "metadata": {},
   "outputs": [],
   "source": [
    "df['seat_count'].replace('None',np.nan,inplace=True)"
   ]
  },
  {
   "cell_type": "code",
   "execution_count": 29,
   "metadata": {},
   "outputs": [],
   "source": [
    "df['door_count'].replace('None',np.nan,inplace=True)"
   ]
  },
  {
   "cell_type": "code",
   "execution_count": 30,
   "metadata": {},
   "outputs": [
    {
     "data": {
      "text/plain": [
       "Age of car                0\n",
       "Distance               1339\n",
       "Location                  0\n",
       "Maker                     0\n",
       "Owner Type                0\n",
       "Price                  5615\n",
       "Vroom Audit Rating        0\n",
       "data                      0\n",
       "door_count             8340\n",
       "engine_displacement       0\n",
       "engine_power           1607\n",
       "fuel_type                 0\n",
       "manufacture_year          0\n",
       "model                     0\n",
       "seat_count             9402\n",
       "transmission              0\n",
       "dtype: int64"
      ]
     },
     "execution_count": 30,
     "metadata": {},
     "output_type": "execute_result"
    }
   ],
   "source": [
    "df.isnull().sum()"
   ]
  },
  {
   "cell_type": "code",
   "execution_count": 31,
   "metadata": {},
   "outputs": [],
   "source": [
    "temp_price = df['Price']"
   ]
  },
  {
   "cell_type": "code",
   "execution_count": 32,
   "metadata": {},
   "outputs": [],
   "source": [
    "df1 = df.drop(('Price'),axis=1)"
   ]
  },
  {
   "cell_type": "code",
   "execution_count": 34,
   "metadata": {},
   "outputs": [
    {
     "data": {
      "text/plain": [
       "(59130, 15)"
      ]
     },
     "execution_count": 34,
     "metadata": {},
     "output_type": "execute_result"
    }
   ],
   "source": [
    "df1.shape"
   ]
  },
  {
   "cell_type": "code",
   "execution_count": 35,
   "metadata": {},
   "outputs": [
    {
     "data": {
      "text/plain": [
       "0        543764.25\n",
       "1        401819.25\n",
       "2       2392855.50\n",
       "3        958606.50\n",
       "4       3085561.50\n",
       "           ...    \n",
       "5610           NaN\n",
       "5611           NaN\n",
       "5612           NaN\n",
       "5613           NaN\n",
       "5614           NaN\n",
       "Name: Price, Length: 59130, dtype: float64"
      ]
     },
     "execution_count": 35,
     "metadata": {},
     "output_type": "execute_result"
    }
   ],
   "source": [
    "temp_price"
   ]
  },
  {
   "cell_type": "code",
   "execution_count": 36,
   "metadata": {},
   "outputs": [
    {
     "data": {
      "text/plain": [
       "Age of car                0\n",
       "Distance               1339\n",
       "Location                  0\n",
       "Maker                     0\n",
       "Owner Type                0\n",
       "Vroom Audit Rating        0\n",
       "data                      0\n",
       "door_count             8340\n",
       "engine_displacement       0\n",
       "engine_power           1607\n",
       "fuel_type                 0\n",
       "manufacture_year          0\n",
       "model                     0\n",
       "seat_count             9402\n",
       "transmission              0\n",
       "dtype: int64"
      ]
     },
     "execution_count": 36,
     "metadata": {},
     "output_type": "execute_result"
    }
   ],
   "source": [
    "# imputing all missing values other than price that is in test dataset\n",
    "df1.isnull().sum()"
   ]
  },
  {
   "cell_type": "code",
   "execution_count": 41,
   "metadata": {},
   "outputs": [],
   "source": [
    "# checking catg columns\n",
    "cat_cols = df1.select_dtypes(['object']).columns"
   ]
  },
  {
   "cell_type": "code",
   "execution_count": 42,
   "metadata": {},
   "outputs": [
    {
     "data": {
      "text/plain": [
       "Index(['Location', 'Maker', 'Owner Type', 'data', 'door_count', 'fuel_type',\n",
       "       'model', 'seat_count', 'transmission'],\n",
       "      dtype='object')"
      ]
     },
     "execution_count": 42,
     "metadata": {},
     "output_type": "execute_result"
    }
   ],
   "source": [
    "cat_cols"
   ]
  },
  {
   "cell_type": "code",
   "execution_count": 43,
   "metadata": {},
   "outputs": [],
   "source": [
    "num_cols=[]\n",
    "for i in df.columns:\n",
    "    if i not in cat_cols:\n",
    "        num_cols.append(i)"
   ]
  },
  {
   "cell_type": "code",
   "execution_count": 44,
   "metadata": {},
   "outputs": [
    {
     "data": {
      "text/plain": [
       "['Age of car',\n",
       " 'Distance ',\n",
       " 'Price',\n",
       " 'Vroom Audit Rating',\n",
       " 'engine_displacement',\n",
       " 'engine_power',\n",
       " 'manufacture_year']"
      ]
     },
     "execution_count": 44,
     "metadata": {},
     "output_type": "execute_result"
    }
   ],
   "source": [
    "num_cols"
   ]
  },
  {
   "cell_type": "code",
   "execution_count": 45,
   "metadata": {},
   "outputs": [],
   "source": [
    "df1 = df[num_cols]\n",
    "df3 = df[cat_cols]"
   ]
  },
  {
   "cell_type": "code",
   "execution_count": 46,
   "metadata": {},
   "outputs": [
    {
     "data": {
      "text/html": [
       "<div>\n",
       "<style scoped>\n",
       "    .dataframe tbody tr th:only-of-type {\n",
       "        vertical-align: middle;\n",
       "    }\n",
       "\n",
       "    .dataframe tbody tr th {\n",
       "        vertical-align: top;\n",
       "    }\n",
       "\n",
       "    .dataframe thead th {\n",
       "        text-align: right;\n",
       "    }\n",
       "</style>\n",
       "<table border=\"1\" class=\"dataframe\">\n",
       "  <thead>\n",
       "    <tr style=\"text-align: right;\">\n",
       "      <th></th>\n",
       "      <th>Age of car</th>\n",
       "      <th>Distance</th>\n",
       "      <th>Price</th>\n",
       "      <th>Vroom Audit Rating</th>\n",
       "      <th>engine_displacement</th>\n",
       "      <th>engine_power</th>\n",
       "      <th>manufacture_year</th>\n",
       "    </tr>\n",
       "  </thead>\n",
       "  <tbody>\n",
       "    <tr>\n",
       "      <td>0</td>\n",
       "      <td>55</td>\n",
       "      <td>NaN</td>\n",
       "      <td>543764.25</td>\n",
       "      <td>8</td>\n",
       "      <td>1964</td>\n",
       "      <td>147.0</td>\n",
       "      <td>1964</td>\n",
       "    </tr>\n",
       "    <tr>\n",
       "      <td>1</td>\n",
       "      <td>7</td>\n",
       "      <td>27750.0</td>\n",
       "      <td>401819.25</td>\n",
       "      <td>6</td>\n",
       "      <td>1242</td>\n",
       "      <td>51.0</td>\n",
       "      <td>2012</td>\n",
       "    </tr>\n",
       "    <tr>\n",
       "      <td>2</td>\n",
       "      <td>5</td>\n",
       "      <td>46000.0</td>\n",
       "      <td>2392855.50</td>\n",
       "      <td>7</td>\n",
       "      <td>1995</td>\n",
       "      <td>105.0</td>\n",
       "      <td>2014</td>\n",
       "    </tr>\n",
       "    <tr>\n",
       "      <td>3</td>\n",
       "      <td>8</td>\n",
       "      <td>43949.0</td>\n",
       "      <td>958606.50</td>\n",
       "      <td>7</td>\n",
       "      <td>1618</td>\n",
       "      <td>140.0</td>\n",
       "      <td>2011</td>\n",
       "    </tr>\n",
       "    <tr>\n",
       "      <td>4</td>\n",
       "      <td>7</td>\n",
       "      <td>59524.0</td>\n",
       "      <td>3085561.50</td>\n",
       "      <td>7</td>\n",
       "      <td>2993</td>\n",
       "      <td>180.0</td>\n",
       "      <td>2012</td>\n",
       "    </tr>\n",
       "  </tbody>\n",
       "</table>\n",
       "</div>"
      ],
      "text/plain": [
       "   Age of car  Distance        Price  Vroom Audit Rating  engine_displacement  \\\n",
       "0          55        NaN   543764.25                   8                 1964   \n",
       "1           7    27750.0   401819.25                   6                 1242   \n",
       "2           5    46000.0  2392855.50                   7                 1995   \n",
       "3           8    43949.0   958606.50                   7                 1618   \n",
       "4           7    59524.0  3085561.50                   7                 2993   \n",
       "\n",
       "   engine_power  manufacture_year  \n",
       "0         147.0              1964  \n",
       "1          51.0              2012  \n",
       "2         105.0              2014  \n",
       "3         140.0              2011  \n",
       "4         180.0              2012  "
      ]
     },
     "execution_count": 46,
     "metadata": {},
     "output_type": "execute_result"
    }
   ],
   "source": [
    "df1.head()"
   ]
  },
  {
   "cell_type": "code",
   "execution_count": 47,
   "metadata": {},
   "outputs": [
    {
     "data": {
      "text/html": [
       "<div>\n",
       "<style scoped>\n",
       "    .dataframe tbody tr th:only-of-type {\n",
       "        vertical-align: middle;\n",
       "    }\n",
       "\n",
       "    .dataframe tbody tr th {\n",
       "        vertical-align: top;\n",
       "    }\n",
       "\n",
       "    .dataframe thead th {\n",
       "        text-align: right;\n",
       "    }\n",
       "</style>\n",
       "<table border=\"1\" class=\"dataframe\">\n",
       "  <thead>\n",
       "    <tr style=\"text-align: right;\">\n",
       "      <th></th>\n",
       "      <th>Location</th>\n",
       "      <th>Maker</th>\n",
       "      <th>Owner Type</th>\n",
       "      <th>data</th>\n",
       "      <th>door_count</th>\n",
       "      <th>fuel_type</th>\n",
       "      <th>model</th>\n",
       "      <th>seat_count</th>\n",
       "      <th>transmission</th>\n",
       "    </tr>\n",
       "  </thead>\n",
       "  <tbody>\n",
       "    <tr>\n",
       "      <td>0</td>\n",
       "      <td>Ahmedabad</td>\n",
       "      <td>skoda</td>\n",
       "      <td>Second</td>\n",
       "      <td>Train</td>\n",
       "      <td>NaN</td>\n",
       "      <td>petrol</td>\n",
       "      <td>octavia</td>\n",
       "      <td>NaN</td>\n",
       "      <td>man</td>\n",
       "    </tr>\n",
       "    <tr>\n",
       "      <td>1</td>\n",
       "      <td>Ahmedabad</td>\n",
       "      <td>fiat</td>\n",
       "      <td>Third</td>\n",
       "      <td>Train</td>\n",
       "      <td>4</td>\n",
       "      <td>petrol</td>\n",
       "      <td>panda</td>\n",
       "      <td>4</td>\n",
       "      <td>man</td>\n",
       "    </tr>\n",
       "    <tr>\n",
       "      <td>2</td>\n",
       "      <td>Hyderabad</td>\n",
       "      <td>bmw</td>\n",
       "      <td>Third</td>\n",
       "      <td>Train</td>\n",
       "      <td>4</td>\n",
       "      <td>diesel</td>\n",
       "      <td>x1</td>\n",
       "      <td>5</td>\n",
       "      <td>auto</td>\n",
       "    </tr>\n",
       "    <tr>\n",
       "      <td>3</td>\n",
       "      <td>Mumbai</td>\n",
       "      <td>nissan</td>\n",
       "      <td>Third</td>\n",
       "      <td>Train</td>\n",
       "      <td>4</td>\n",
       "      <td>petrol</td>\n",
       "      <td>juke</td>\n",
       "      <td>5</td>\n",
       "      <td>man</td>\n",
       "    </tr>\n",
       "    <tr>\n",
       "      <td>4</td>\n",
       "      <td>Jaipur</td>\n",
       "      <td>bmw</td>\n",
       "      <td>Fourth &amp; Above</td>\n",
       "      <td>Train</td>\n",
       "      <td>4</td>\n",
       "      <td>diesel</td>\n",
       "      <td>x5</td>\n",
       "      <td>5</td>\n",
       "      <td>auto</td>\n",
       "    </tr>\n",
       "  </tbody>\n",
       "</table>\n",
       "</div>"
      ],
      "text/plain": [
       "    Location   Maker      Owner Type   data door_count fuel_type    model  \\\n",
       "0  Ahmedabad   skoda          Second  Train        NaN    petrol  octavia   \n",
       "1  Ahmedabad    fiat           Third  Train          4    petrol    panda   \n",
       "2  Hyderabad     bmw           Third  Train          4    diesel       x1   \n",
       "3     Mumbai  nissan           Third  Train          4    petrol     juke   \n",
       "4     Jaipur     bmw  Fourth & Above  Train          4    diesel       x5   \n",
       "\n",
       "  seat_count transmission  \n",
       "0        NaN          man  \n",
       "1          4          man  \n",
       "2          5         auto  \n",
       "3          5          man  \n",
       "4          5         auto  "
      ]
     },
     "execution_count": 47,
     "metadata": {},
     "output_type": "execute_result"
    }
   ],
   "source": [
    "df3.head()"
   ]
  },
  {
   "cell_type": "code",
   "execution_count": 48,
   "metadata": {},
   "outputs": [
    {
     "data": {
      "text/plain": [
       "Age of car                0\n",
       "Distance               1339\n",
       "Price                  5615\n",
       "Vroom Audit Rating        0\n",
       "engine_displacement       0\n",
       "engine_power           1607\n",
       "manufacture_year          0\n",
       "dtype: int64"
      ]
     },
     "execution_count": 48,
     "metadata": {},
     "output_type": "execute_result"
    }
   ],
   "source": [
    "df1.isnull().sum()"
   ]
  },
  {
   "cell_type": "code",
   "execution_count": 49,
   "metadata": {},
   "outputs": [
    {
     "data": {
      "text/plain": [
       "Location           0\n",
       "Maker              0\n",
       "Owner Type         0\n",
       "data               0\n",
       "door_count      8340\n",
       "fuel_type          0\n",
       "model              0\n",
       "seat_count      9402\n",
       "transmission       0\n",
       "dtype: int64"
      ]
     },
     "execution_count": 49,
     "metadata": {},
     "output_type": "execute_result"
    }
   ],
   "source": [
    "df3.isnull().sum()"
   ]
  },
  {
   "cell_type": "code",
   "execution_count": 50,
   "metadata": {},
   "outputs": [
    {
     "data": {
      "text/html": [
       "<div>\n",
       "<style scoped>\n",
       "    .dataframe tbody tr th:only-of-type {\n",
       "        vertical-align: middle;\n",
       "    }\n",
       "\n",
       "    .dataframe tbody tr th {\n",
       "        vertical-align: top;\n",
       "    }\n",
       "\n",
       "    .dataframe thead th {\n",
       "        text-align: right;\n",
       "    }\n",
       "</style>\n",
       "<table border=\"1\" class=\"dataframe\">\n",
       "  <thead>\n",
       "    <tr style=\"text-align: right;\">\n",
       "      <th></th>\n",
       "      <th>Age of car</th>\n",
       "      <th>Distance</th>\n",
       "      <th>Price</th>\n",
       "      <th>Vroom Audit Rating</th>\n",
       "      <th>engine_displacement</th>\n",
       "      <th>engine_power</th>\n",
       "      <th>manufacture_year</th>\n",
       "    </tr>\n",
       "  </thead>\n",
       "  <tbody>\n",
       "    <tr>\n",
       "      <td>count</td>\n",
       "      <td>59130.000000</td>\n",
       "      <td>5.779100e+04</td>\n",
       "      <td>5.351500e+04</td>\n",
       "      <td>59130.000000</td>\n",
       "      <td>59130.000000</td>\n",
       "      <td>57523.000000</td>\n",
       "      <td>59130.000000</td>\n",
       "    </tr>\n",
       "    <tr>\n",
       "      <td>mean</td>\n",
       "      <td>8.584340</td>\n",
       "      <td>9.467385e+04</td>\n",
       "      <td>1.098084e+06</td>\n",
       "      <td>5.998089</td>\n",
       "      <td>1901.370184</td>\n",
       "      <td>100.356136</td>\n",
       "      <td>2010.415660</td>\n",
       "    </tr>\n",
       "    <tr>\n",
       "      <td>std</td>\n",
       "      <td>4.658657</td>\n",
       "      <td>2.788909e+05</td>\n",
       "      <td>8.441565e+05</td>\n",
       "      <td>1.416501</td>\n",
       "      <td>1487.932696</td>\n",
       "      <td>45.345649</td>\n",
       "      <td>4.658657</td>\n",
       "    </tr>\n",
       "    <tr>\n",
       "      <td>min</td>\n",
       "      <td>3.000000</td>\n",
       "      <td>0.000000e+00</td>\n",
       "      <td>3.000000e+00</td>\n",
       "      <td>4.000000</td>\n",
       "      <td>14.000000</td>\n",
       "      <td>10.000000</td>\n",
       "      <td>1934.000000</td>\n",
       "    </tr>\n",
       "    <tr>\n",
       "      <td>25%</td>\n",
       "      <td>5.000000</td>\n",
       "      <td>1.536000e+04</td>\n",
       "      <td>5.051812e+05</td>\n",
       "      <td>5.000000</td>\n",
       "      <td>1395.000000</td>\n",
       "      <td>73.000000</td>\n",
       "      <td>2008.000000</td>\n",
       "    </tr>\n",
       "    <tr>\n",
       "      <td>50%</td>\n",
       "      <td>8.000000</td>\n",
       "      <td>6.530000e+04</td>\n",
       "      <td>8.854552e+05</td>\n",
       "      <td>6.000000</td>\n",
       "      <td>1896.000000</td>\n",
       "      <td>91.000000</td>\n",
       "      <td>2011.000000</td>\n",
       "    </tr>\n",
       "    <tr>\n",
       "      <td>75%</td>\n",
       "      <td>11.000000</td>\n",
       "      <td>1.351120e+05</td>\n",
       "      <td>1.477829e+06</td>\n",
       "      <td>7.000000</td>\n",
       "      <td>1995.000000</td>\n",
       "      <td>125.000000</td>\n",
       "      <td>2014.000000</td>\n",
       "    </tr>\n",
       "    <tr>\n",
       "      <td>max</td>\n",
       "      <td>85.000000</td>\n",
       "      <td>9.899800e+06</td>\n",
       "      <td>2.212078e+07</td>\n",
       "      <td>8.000000</td>\n",
       "      <td>32000.000000</td>\n",
       "      <td>968.000000</td>\n",
       "      <td>2016.000000</td>\n",
       "    </tr>\n",
       "  </tbody>\n",
       "</table>\n",
       "</div>"
      ],
      "text/plain": [
       "         Age of car     Distance          Price  Vroom Audit Rating  \\\n",
       "count  59130.000000  5.779100e+04  5.351500e+04        59130.000000   \n",
       "mean       8.584340  9.467385e+04  1.098084e+06            5.998089   \n",
       "std        4.658657  2.788909e+05  8.441565e+05            1.416501   \n",
       "min        3.000000  0.000000e+00  3.000000e+00            4.000000   \n",
       "25%        5.000000  1.536000e+04  5.051812e+05            5.000000   \n",
       "50%        8.000000  6.530000e+04  8.854552e+05            6.000000   \n",
       "75%       11.000000  1.351120e+05  1.477829e+06            7.000000   \n",
       "max       85.000000  9.899800e+06  2.212078e+07            8.000000   \n",
       "\n",
       "       engine_displacement  engine_power  manufacture_year  \n",
       "count         59130.000000  57523.000000      59130.000000  \n",
       "mean           1901.370184    100.356136       2010.415660  \n",
       "std            1487.932696     45.345649          4.658657  \n",
       "min              14.000000     10.000000       1934.000000  \n",
       "25%            1395.000000     73.000000       2008.000000  \n",
       "50%            1896.000000     91.000000       2011.000000  \n",
       "75%            1995.000000    125.000000       2014.000000  \n",
       "max           32000.000000    968.000000       2016.000000  "
      ]
     },
     "execution_count": 50,
     "metadata": {},
     "output_type": "execute_result"
    }
   ],
   "source": [
    "df1.describe()"
   ]
  },
  {
   "cell_type": "code",
   "execution_count": 51,
   "metadata": {},
   "outputs": [
    {
     "data": {
      "text/html": [
       "<div>\n",
       "<style scoped>\n",
       "    .dataframe tbody tr th:only-of-type {\n",
       "        vertical-align: middle;\n",
       "    }\n",
       "\n",
       "    .dataframe tbody tr th {\n",
       "        vertical-align: top;\n",
       "    }\n",
       "\n",
       "    .dataframe thead th {\n",
       "        text-align: right;\n",
       "    }\n",
       "</style>\n",
       "<table border=\"1\" class=\"dataframe\">\n",
       "  <thead>\n",
       "    <tr style=\"text-align: right;\">\n",
       "      <th></th>\n",
       "      <th>Age of car</th>\n",
       "      <th>Distance</th>\n",
       "      <th>Price</th>\n",
       "      <th>Vroom Audit Rating</th>\n",
       "      <th>engine_displacement</th>\n",
       "      <th>engine_power</th>\n",
       "      <th>manufacture_year</th>\n",
       "    </tr>\n",
       "  </thead>\n",
       "  <tbody>\n",
       "    <tr>\n",
       "      <td>Age of car</td>\n",
       "      <td>1.000000</td>\n",
       "      <td>0.227439</td>\n",
       "      <td>-0.506707</td>\n",
       "      <td>-0.003355</td>\n",
       "      <td>0.089372</td>\n",
       "      <td>-0.052100</td>\n",
       "      <td>-1.000000</td>\n",
       "    </tr>\n",
       "    <tr>\n",
       "      <td>Distance</td>\n",
       "      <td>0.227439</td>\n",
       "      <td>1.000000</td>\n",
       "      <td>-0.158515</td>\n",
       "      <td>-0.002934</td>\n",
       "      <td>0.119436</td>\n",
       "      <td>0.010572</td>\n",
       "      <td>-0.227439</td>\n",
       "    </tr>\n",
       "    <tr>\n",
       "      <td>Price</td>\n",
       "      <td>-0.506707</td>\n",
       "      <td>-0.158515</td>\n",
       "      <td>1.000000</td>\n",
       "      <td>0.005109</td>\n",
       "      <td>0.162072</td>\n",
       "      <td>0.627944</td>\n",
       "      <td>0.506707</td>\n",
       "    </tr>\n",
       "    <tr>\n",
       "      <td>Vroom Audit Rating</td>\n",
       "      <td>-0.003355</td>\n",
       "      <td>-0.002934</td>\n",
       "      <td>0.005109</td>\n",
       "      <td>1.000000</td>\n",
       "      <td>-0.004492</td>\n",
       "      <td>-0.000983</td>\n",
       "      <td>0.003355</td>\n",
       "    </tr>\n",
       "    <tr>\n",
       "      <td>engine_displacement</td>\n",
       "      <td>0.089372</td>\n",
       "      <td>0.119436</td>\n",
       "      <td>0.162072</td>\n",
       "      <td>-0.004492</td>\n",
       "      <td>1.000000</td>\n",
       "      <td>0.388706</td>\n",
       "      <td>-0.089372</td>\n",
       "    </tr>\n",
       "    <tr>\n",
       "      <td>engine_power</td>\n",
       "      <td>-0.052100</td>\n",
       "      <td>0.010572</td>\n",
       "      <td>0.627944</td>\n",
       "      <td>-0.000983</td>\n",
       "      <td>0.388706</td>\n",
       "      <td>1.000000</td>\n",
       "      <td>0.052100</td>\n",
       "    </tr>\n",
       "    <tr>\n",
       "      <td>manufacture_year</td>\n",
       "      <td>-1.000000</td>\n",
       "      <td>-0.227439</td>\n",
       "      <td>0.506707</td>\n",
       "      <td>0.003355</td>\n",
       "      <td>-0.089372</td>\n",
       "      <td>0.052100</td>\n",
       "      <td>1.000000</td>\n",
       "    </tr>\n",
       "  </tbody>\n",
       "</table>\n",
       "</div>"
      ],
      "text/plain": [
       "                     Age of car  Distance      Price  Vroom Audit Rating  \\\n",
       "Age of car             1.000000   0.227439 -0.506707           -0.003355   \n",
       "Distance               0.227439   1.000000 -0.158515           -0.002934   \n",
       "Price                 -0.506707  -0.158515  1.000000            0.005109   \n",
       "Vroom Audit Rating    -0.003355  -0.002934  0.005109            1.000000   \n",
       "engine_displacement    0.089372   0.119436  0.162072           -0.004492   \n",
       "engine_power          -0.052100   0.010572  0.627944           -0.000983   \n",
       "manufacture_year      -1.000000  -0.227439  0.506707            0.003355   \n",
       "\n",
       "                     engine_displacement  engine_power  manufacture_year  \n",
       "Age of car                      0.089372     -0.052100         -1.000000  \n",
       "Distance                        0.119436      0.010572         -0.227439  \n",
       "Price                           0.162072      0.627944          0.506707  \n",
       "Vroom Audit Rating             -0.004492     -0.000983          0.003355  \n",
       "engine_displacement             1.000000      0.388706         -0.089372  \n",
       "engine_power                    0.388706      1.000000          0.052100  \n",
       "manufacture_year               -0.089372      0.052100          1.000000  "
      ]
     },
     "execution_count": 51,
     "metadata": {},
     "output_type": "execute_result"
    }
   ],
   "source": [
    "# Analysing numerical attributes \n",
    "df1.corr()"
   ]
  },
  {
   "cell_type": "code",
   "execution_count": 52,
   "metadata": {},
   "outputs": [
    {
     "data": {
      "image/png": "[encoded data removed]",
      "text/plain": [
       "<Figure size 432x288 with 2 Axes>"
      ]
     },
     "metadata": {
      "needs_background": "light"
     },
     "output_type": "display_data"
    }
   ],
   "source": [
    "sns.heatmap(df1.corr(),annot=True,cmap='YlGnBu')\n",
    "plt.show()"
   ]
  },
  {
   "cell_type": "code",
   "execution_count": 53,
   "metadata": {},
   "outputs": [
    {
     "name": "stderr",
     "output_type": "stream",
     "text": [
      "C:\\ProgramData\\Anaconda3\\lib\\site-packages\\statsmodels\\nonparametric\\kde.py:447: RuntimeWarning: invalid value encountered in greater\n",
      "  X = X[np.logical_and(X > clip[0], X < clip[1])] # won't work for two columns.\n",
      "C:\\ProgramData\\Anaconda3\\lib\\site-packages\\statsmodels\\nonparametric\\kde.py:447: RuntimeWarning: invalid value encountered in less\n",
      "  X = X[np.logical_and(X > clip[0], X < clip[1])] # won't work for two columns.\n"
     ]
    },
    {
     "data": {
      "image/png": "[encoded data removed]",
      "text/plain": [
       "<Figure size 1260x1260 with 56 Axes>"
      ]
     },
     "metadata": {
      "needs_background": "light"
     },
     "output_type": "display_data"
    }
   ],
   "source": [
    "sns.pairplot(df1,diag_kind='kde')\n",
    "plt.show()"
   ]
  },
  {
   "cell_type": "code",
   "execution_count": 54,
   "metadata": {},
   "outputs": [
    {
     "data": {
      "text/html": [
       "<div>\n",
       "<style scoped>\n",
       "    .dataframe tbody tr th:only-of-type {\n",
       "        vertical-align: middle;\n",
       "    }\n",
       "\n",
       "    .dataframe tbody tr th {\n",
       "        vertical-align: top;\n",
       "    }\n",
       "\n",
       "    .dataframe thead th {\n",
       "        text-align: right;\n",
       "    }\n",
       "</style>\n",
       "<table border=\"1\" class=\"dataframe\">\n",
       "  <thead>\n",
       "    <tr style=\"text-align: right;\">\n",
       "      <th></th>\n",
       "      <th>Location</th>\n",
       "      <th>Maker</th>\n",
       "      <th>Owner Type</th>\n",
       "      <th>data</th>\n",
       "      <th>door_count</th>\n",
       "      <th>fuel_type</th>\n",
       "      <th>model</th>\n",
       "      <th>seat_count</th>\n",
       "      <th>transmission</th>\n",
       "    </tr>\n",
       "  </thead>\n",
       "  <tbody>\n",
       "    <tr>\n",
       "      <td>0</td>\n",
       "      <td>Ahmedabad</td>\n",
       "      <td>skoda</td>\n",
       "      <td>Second</td>\n",
       "      <td>Train</td>\n",
       "      <td>NaN</td>\n",
       "      <td>petrol</td>\n",
       "      <td>octavia</td>\n",
       "      <td>NaN</td>\n",
       "      <td>man</td>\n",
       "    </tr>\n",
       "    <tr>\n",
       "      <td>1</td>\n",
       "      <td>Ahmedabad</td>\n",
       "      <td>fiat</td>\n",
       "      <td>Third</td>\n",
       "      <td>Train</td>\n",
       "      <td>4</td>\n",
       "      <td>petrol</td>\n",
       "      <td>panda</td>\n",
       "      <td>4</td>\n",
       "      <td>man</td>\n",
       "    </tr>\n",
       "    <tr>\n",
       "      <td>2</td>\n",
       "      <td>Hyderabad</td>\n",
       "      <td>bmw</td>\n",
       "      <td>Third</td>\n",
       "      <td>Train</td>\n",
       "      <td>4</td>\n",
       "      <td>diesel</td>\n",
       "      <td>x1</td>\n",
       "      <td>5</td>\n",
       "      <td>auto</td>\n",
       "    </tr>\n",
       "    <tr>\n",
       "      <td>3</td>\n",
       "      <td>Mumbai</td>\n",
       "      <td>nissan</td>\n",
       "      <td>Third</td>\n",
       "      <td>Train</td>\n",
       "      <td>4</td>\n",
       "      <td>petrol</td>\n",
       "      <td>juke</td>\n",
       "      <td>5</td>\n",
       "      <td>man</td>\n",
       "    </tr>\n",
       "    <tr>\n",
       "      <td>4</td>\n",
       "      <td>Jaipur</td>\n",
       "      <td>bmw</td>\n",
       "      <td>Fourth &amp; Above</td>\n",
       "      <td>Train</td>\n",
       "      <td>4</td>\n",
       "      <td>diesel</td>\n",
       "      <td>x5</td>\n",
       "      <td>5</td>\n",
       "      <td>auto</td>\n",
       "    </tr>\n",
       "  </tbody>\n",
       "</table>\n",
       "</div>"
      ],
      "text/plain": [
       "    Location   Maker      Owner Type   data door_count fuel_type    model  \\\n",
       "0  Ahmedabad   skoda          Second  Train        NaN    petrol  octavia   \n",
       "1  Ahmedabad    fiat           Third  Train          4    petrol    panda   \n",
       "2  Hyderabad     bmw           Third  Train          4    diesel       x1   \n",
       "3     Mumbai  nissan           Third  Train          4    petrol     juke   \n",
       "4     Jaipur     bmw  Fourth & Above  Train          4    diesel       x5   \n",
       "\n",
       "  seat_count transmission  \n",
       "0        NaN          man  \n",
       "1          4          man  \n",
       "2          5         auto  \n",
       "3          5          man  \n",
       "4          5         auto  "
      ]
     },
     "execution_count": 54,
     "metadata": {},
     "output_type": "execute_result"
    }
   ],
   "source": [
    "# analysing categorical variables\n",
    "df3.head()"
   ]
  },
  {
   "cell_type": "code",
   "execution_count": 56,
   "metadata": {},
   "outputs": [
    {
     "data": {
      "text/plain": [
       "Location           0\n",
       "Maker              0\n",
       "Owner Type         0\n",
       "data               0\n",
       "door_count      8340\n",
       "fuel_type          0\n",
       "model              0\n",
       "seat_count      9402\n",
       "transmission       0\n",
       "dtype: int64"
      ]
     },
     "execution_count": 56,
     "metadata": {},
     "output_type": "execute_result"
    }
   ],
   "source": [
    "df3.isnull().sum()"
   ]
  },
  {
   "cell_type": "code",
   "execution_count": 57,
   "metadata": {},
   "outputs": [
    {
     "data": {
      "text/plain": [
       "0    4\n",
       "dtype: object"
      ]
     },
     "execution_count": 57,
     "metadata": {},
     "output_type": "execute_result"
    }
   ],
   "source": [
    "df3['door_count'].mode()"
   ]
  },
  {
   "cell_type": "code",
   "execution_count": 58,
   "metadata": {},
   "outputs": [
    {
     "data": {
      "text/plain": [
       "0    5\n",
       "dtype: object"
      ]
     },
     "execution_count": 58,
     "metadata": {},
     "output_type": "execute_result"
    }
   ],
   "source": [
    "df3['seat_count'].mode()"
   ]
  },
  {
   "cell_type": "code",
   "execution_count": 61,
   "metadata": {},
   "outputs": [
    {
     "name": "stderr",
     "output_type": "stream",
     "text": [
      "C:\\ProgramData\\Anaconda3\\lib\\site-packages\\pandas\\core\\generic.py:6786: SettingWithCopyWarning: \n",
      "A value is trying to be set on a copy of a slice from a DataFrame\n",
      "\n",
      "See the caveats in the documentation: http://pandas.pydata.org/pandas-docs/stable/user_guide/indexing.html#returning-a-view-versus-a-copy\n",
      "  self._update_inplace(new_data)\n"
     ]
    }
   ],
   "source": [
    "df3['door_count'].replace(np.nan,'4',inplace=True)\n",
    "df3['seat_count'].replace(np.nan,'5',inplace=True)"
   ]
  },
  {
   "cell_type": "code",
   "execution_count": 63,
   "metadata": {},
   "outputs": [
    {
     "data": {
      "text/plain": [
       "Location        0\n",
       "Maker           0\n",
       "Owner Type      0\n",
       "data            0\n",
       "door_count      0\n",
       "fuel_type       0\n",
       "model           0\n",
       "seat_count      0\n",
       "transmission    0\n",
       "dtype: int64"
      ]
     },
     "execution_count": 63,
     "metadata": {},
     "output_type": "execute_result"
    }
   ],
   "source": [
    "df3.isnull().sum()"
   ]
  },
  {
   "cell_type": "code",
   "execution_count": 64,
   "metadata": {},
   "outputs": [
    {
     "data": {
      "text/html": [
       "<div>\n",
       "<style scoped>\n",
       "    .dataframe tbody tr th:only-of-type {\n",
       "        vertical-align: middle;\n",
       "    }\n",
       "\n",
       "    .dataframe tbody tr th {\n",
       "        vertical-align: top;\n",
       "    }\n",
       "\n",
       "    .dataframe thead th {\n",
       "        text-align: right;\n",
       "    }\n",
       "</style>\n",
       "<table border=\"1\" class=\"dataframe\">\n",
       "  <thead>\n",
       "    <tr style=\"text-align: right;\">\n",
       "      <th></th>\n",
       "      <th>Location</th>\n",
       "      <th>Maker</th>\n",
       "      <th>Owner Type</th>\n",
       "      <th>data</th>\n",
       "      <th>door_count</th>\n",
       "      <th>fuel_type</th>\n",
       "      <th>model</th>\n",
       "      <th>seat_count</th>\n",
       "      <th>transmission</th>\n",
       "    </tr>\n",
       "  </thead>\n",
       "  <tbody>\n",
       "    <tr>\n",
       "      <td>0</td>\n",
       "      <td>Ahmedabad</td>\n",
       "      <td>skoda</td>\n",
       "      <td>Second</td>\n",
       "      <td>Train</td>\n",
       "      <td>4</td>\n",
       "      <td>petrol</td>\n",
       "      <td>octavia</td>\n",
       "      <td>5</td>\n",
       "      <td>man</td>\n",
       "    </tr>\n",
       "    <tr>\n",
       "      <td>1</td>\n",
       "      <td>Ahmedabad</td>\n",
       "      <td>fiat</td>\n",
       "      <td>Third</td>\n",
       "      <td>Train</td>\n",
       "      <td>4</td>\n",
       "      <td>petrol</td>\n",
       "      <td>panda</td>\n",
       "      <td>4</td>\n",
       "      <td>man</td>\n",
       "    </tr>\n",
       "    <tr>\n",
       "      <td>2</td>\n",
       "      <td>Hyderabad</td>\n",
       "      <td>bmw</td>\n",
       "      <td>Third</td>\n",
       "      <td>Train</td>\n",
       "      <td>4</td>\n",
       "      <td>diesel</td>\n",
       "      <td>x1</td>\n",
       "      <td>5</td>\n",
       "      <td>auto</td>\n",
       "    </tr>\n",
       "    <tr>\n",
       "      <td>3</td>\n",
       "      <td>Mumbai</td>\n",
       "      <td>nissan</td>\n",
       "      <td>Third</td>\n",
       "      <td>Train</td>\n",
       "      <td>4</td>\n",
       "      <td>petrol</td>\n",
       "      <td>juke</td>\n",
       "      <td>5</td>\n",
       "      <td>man</td>\n",
       "    </tr>\n",
       "    <tr>\n",
       "      <td>4</td>\n",
       "      <td>Jaipur</td>\n",
       "      <td>bmw</td>\n",
       "      <td>Fourth &amp; Above</td>\n",
       "      <td>Train</td>\n",
       "      <td>4</td>\n",
       "      <td>diesel</td>\n",
       "      <td>x5</td>\n",
       "      <td>5</td>\n",
       "      <td>auto</td>\n",
       "    </tr>\n",
       "  </tbody>\n",
       "</table>\n",
       "</div>"
      ],
      "text/plain": [
       "    Location   Maker      Owner Type   data door_count fuel_type    model  \\\n",
       "0  Ahmedabad   skoda          Second  Train          4    petrol  octavia   \n",
       "1  Ahmedabad    fiat           Third  Train          4    petrol    panda   \n",
       "2  Hyderabad     bmw           Third  Train          4    diesel       x1   \n",
       "3     Mumbai  nissan           Third  Train          4    petrol     juke   \n",
       "4     Jaipur     bmw  Fourth & Above  Train          4    diesel       x5   \n",
       "\n",
       "  seat_count transmission  \n",
       "0          5          man  \n",
       "1          4          man  \n",
       "2          5         auto  \n",
       "3          5          man  \n",
       "4          5         auto  "
      ]
     },
     "execution_count": 64,
     "metadata": {},
     "output_type": "execute_result"
    }
   ],
   "source": [
    "df3.head()"
   ]
  },
  {
   "cell_type": "code",
   "execution_count": 66,
   "metadata": {},
   "outputs": [
    {
     "name": "stderr",
     "output_type": "stream",
     "text": [
      "C:\\ProgramData\\Anaconda3\\lib\\site-packages\\ipykernel_launcher.py:6: SettingWithCopyWarning: \n",
      "A value is trying to be set on a copy of a slice from a DataFrame.\n",
      "Try using .loc[row_indexer,col_indexer] = value instead\n",
      "\n",
      "See the caveats in the documentation: http://pandas.pydata.org/pandas-docs/stable/user_guide/indexing.html#returning-a-view-versus-a-copy\n",
      "  \n"
     ]
    },
    {
     "name": "stdout",
     "output_type": "stream",
     "text": [
      "Location\n",
      "Maker\n",
      "Owner Type\n",
      "data\n",
      "door_count\n",
      "fuel_type\n",
      "model\n",
      "seat_count\n",
      "transmission\n"
     ]
    }
   ],
   "source": [
    "for col in cat_cols:\n",
    "    freqs = df3[col].value_counts()\n",
    "    k = freqs.index[freqs>20][:-1]\n",
    "    for cat in k:\n",
    "        name = col+'_'+cat\n",
    "        df3[name]=(df3[col]==cat).astype(int)\n",
    "    del df3[col]\n",
    "    print(col)"
   ]
  },
  {
   "cell_type": "code",
   "execution_count": 67,
   "metadata": {},
   "outputs": [
    {
     "data": {
      "text/plain": [
       "Index(['Location_Kochi', 'Location_Coimbatore', 'Location_Bangalore',\n",
       "       'Location_Kolkata', 'Location_Mumbai', 'Location_Jaipur',\n",
       "       'Location_Delhi', 'Location_Pune', 'Location_Chennai',\n",
       "       'Location_Hyderabad', 'Maker_skoda', 'Maker_toyota', 'Maker_audi',\n",
       "       'Maker_bmw', 'Maker_nissan', 'Maker_hyundai', 'Maker_fiat',\n",
       "       'Owner Type_First', 'Owner Type_Third', 'Owner Type_Fourth & Above',\n",
       "       'data_Train', 'door_count_4', 'door_count_5', 'door_count_2',\n",
       "       'fuel_type_diesel', 'model_octavia', 'model_superb', 'model_yaris',\n",
       "       'model_qashqai', 'model_x3', 'model_x1', 'model_i30', 'model_q5',\n",
       "       'model_x5', 'model_yeti', 'model_panda', 'model_q3', 'model_coupe',\n",
       "       'model_micra', 'model_auris', 'model_avensis', 'model_aygo',\n",
       "       'model_rapid', 'model_roomster', 'model_q7', 'model_citigo',\n",
       "       'model_juke', 'seat_count_5', 'seat_count_4', 'seat_count_7',\n",
       "       'seat_count_2', 'seat_count_3', 'transmission_man'],\n",
       "      dtype='object')"
      ]
     },
     "execution_count": 67,
     "metadata": {},
     "output_type": "execute_result"
    }
   ],
   "source": [
    "df3.columns"
   ]
  },
  {
   "cell_type": "code",
   "execution_count": 68,
   "metadata": {},
   "outputs": [
    {
     "data": {
      "text/plain": [
       "(59130, 53)"
      ]
     },
     "execution_count": 68,
     "metadata": {},
     "output_type": "execute_result"
    }
   ],
   "source": [
    "df3.shape"
   ]
  },
  {
   "cell_type": "code",
   "execution_count": 70,
   "metadata": {},
   "outputs": [],
   "source": [
    "df3['data'] = df['data']"
   ]
  },
  {
   "cell_type": "code",
   "execution_count": 71,
   "metadata": {},
   "outputs": [
    {
     "data": {
      "text/html": [
       "<div>\n",
       "<style scoped>\n",
       "    .dataframe tbody tr th:only-of-type {\n",
       "        vertical-align: middle;\n",
       "    }\n",
       "\n",
       "    .dataframe tbody tr th {\n",
       "        vertical-align: top;\n",
       "    }\n",
       "\n",
       "    .dataframe thead th {\n",
       "        text-align: right;\n",
       "    }\n",
       "</style>\n",
       "<table border=\"1\" class=\"dataframe\">\n",
       "  <thead>\n",
       "    <tr style=\"text-align: right;\">\n",
       "      <th></th>\n",
       "      <th>Age of car</th>\n",
       "      <th>Distance</th>\n",
       "      <th>Price</th>\n",
       "      <th>Vroom Audit Rating</th>\n",
       "      <th>engine_displacement</th>\n",
       "      <th>engine_power</th>\n",
       "      <th>manufacture_year</th>\n",
       "    </tr>\n",
       "  </thead>\n",
       "  <tbody>\n",
       "    <tr>\n",
       "      <td>0</td>\n",
       "      <td>55</td>\n",
       "      <td>NaN</td>\n",
       "      <td>543764.25</td>\n",
       "      <td>8</td>\n",
       "      <td>1964</td>\n",
       "      <td>147.0</td>\n",
       "      <td>1964</td>\n",
       "    </tr>\n",
       "    <tr>\n",
       "      <td>1</td>\n",
       "      <td>7</td>\n",
       "      <td>27750.0</td>\n",
       "      <td>401819.25</td>\n",
       "      <td>6</td>\n",
       "      <td>1242</td>\n",
       "      <td>51.0</td>\n",
       "      <td>2012</td>\n",
       "    </tr>\n",
       "    <tr>\n",
       "      <td>2</td>\n",
       "      <td>5</td>\n",
       "      <td>46000.0</td>\n",
       "      <td>2392855.50</td>\n",
       "      <td>7</td>\n",
       "      <td>1995</td>\n",
       "      <td>105.0</td>\n",
       "      <td>2014</td>\n",
       "    </tr>\n",
       "    <tr>\n",
       "      <td>3</td>\n",
       "      <td>8</td>\n",
       "      <td>43949.0</td>\n",
       "      <td>958606.50</td>\n",
       "      <td>7</td>\n",
       "      <td>1618</td>\n",
       "      <td>140.0</td>\n",
       "      <td>2011</td>\n",
       "    </tr>\n",
       "    <tr>\n",
       "      <td>4</td>\n",
       "      <td>7</td>\n",
       "      <td>59524.0</td>\n",
       "      <td>3085561.50</td>\n",
       "      <td>7</td>\n",
       "      <td>2993</td>\n",
       "      <td>180.0</td>\n",
       "      <td>2012</td>\n",
       "    </tr>\n",
       "  </tbody>\n",
       "</table>\n",
       "</div>"
      ],
      "text/plain": [
       "   Age of car  Distance        Price  Vroom Audit Rating  engine_displacement  \\\n",
       "0          55        NaN   543764.25                   8                 1964   \n",
       "1           7    27750.0   401819.25                   6                 1242   \n",
       "2           5    46000.0  2392855.50                   7                 1995   \n",
       "3           8    43949.0   958606.50                   7                 1618   \n",
       "4           7    59524.0  3085561.50                   7                 2993   \n",
       "\n",
       "   engine_power  manufacture_year  \n",
       "0         147.0              1964  \n",
       "1          51.0              2012  \n",
       "2         105.0              2014  \n",
       "3         140.0              2011  \n",
       "4         180.0              2012  "
      ]
     },
     "execution_count": 71,
     "metadata": {},
     "output_type": "execute_result"
    }
   ],
   "source": [
    "df1.head()"
   ]
  },
  {
   "cell_type": "code",
   "execution_count": 72,
   "metadata": {},
   "outputs": [
    {
     "data": {
      "text/html": [
       "<div>\n",
       "<style scoped>\n",
       "    .dataframe tbody tr th:only-of-type {\n",
       "        vertical-align: middle;\n",
       "    }\n",
       "\n",
       "    .dataframe tbody tr th {\n",
       "        vertical-align: top;\n",
       "    }\n",
       "\n",
       "    .dataframe thead th {\n",
       "        text-align: right;\n",
       "    }\n",
       "</style>\n",
       "<table border=\"1\" class=\"dataframe\">\n",
       "  <thead>\n",
       "    <tr style=\"text-align: right;\">\n",
       "      <th></th>\n",
       "      <th>Location_Kochi</th>\n",
       "      <th>Location_Coimbatore</th>\n",
       "      <th>Location_Bangalore</th>\n",
       "      <th>Location_Kolkata</th>\n",
       "      <th>Location_Mumbai</th>\n",
       "      <th>Location_Jaipur</th>\n",
       "      <th>Location_Delhi</th>\n",
       "      <th>Location_Pune</th>\n",
       "      <th>Location_Chennai</th>\n",
       "      <th>Location_Hyderabad</th>\n",
       "      <th>...</th>\n",
       "      <th>model_q7</th>\n",
       "      <th>model_citigo</th>\n",
       "      <th>model_juke</th>\n",
       "      <th>seat_count_5</th>\n",
       "      <th>seat_count_4</th>\n",
       "      <th>seat_count_7</th>\n",
       "      <th>seat_count_2</th>\n",
       "      <th>seat_count_3</th>\n",
       "      <th>transmission_man</th>\n",
       "      <th>data</th>\n",
       "    </tr>\n",
       "  </thead>\n",
       "  <tbody>\n",
       "    <tr>\n",
       "      <td>0</td>\n",
       "      <td>0</td>\n",
       "      <td>0</td>\n",
       "      <td>0</td>\n",
       "      <td>0</td>\n",
       "      <td>0</td>\n",
       "      <td>0</td>\n",
       "      <td>0</td>\n",
       "      <td>0</td>\n",
       "      <td>0</td>\n",
       "      <td>0</td>\n",
       "      <td>...</td>\n",
       "      <td>0</td>\n",
       "      <td>0</td>\n",
       "      <td>0</td>\n",
       "      <td>1</td>\n",
       "      <td>0</td>\n",
       "      <td>0</td>\n",
       "      <td>0</td>\n",
       "      <td>0</td>\n",
       "      <td>1</td>\n",
       "      <td>Train</td>\n",
       "    </tr>\n",
       "    <tr>\n",
       "      <td>1</td>\n",
       "      <td>0</td>\n",
       "      <td>0</td>\n",
       "      <td>0</td>\n",
       "      <td>0</td>\n",
       "      <td>0</td>\n",
       "      <td>0</td>\n",
       "      <td>0</td>\n",
       "      <td>0</td>\n",
       "      <td>0</td>\n",
       "      <td>0</td>\n",
       "      <td>...</td>\n",
       "      <td>0</td>\n",
       "      <td>0</td>\n",
       "      <td>0</td>\n",
       "      <td>0</td>\n",
       "      <td>1</td>\n",
       "      <td>0</td>\n",
       "      <td>0</td>\n",
       "      <td>0</td>\n",
       "      <td>1</td>\n",
       "      <td>Train</td>\n",
       "    </tr>\n",
       "    <tr>\n",
       "      <td>2</td>\n",
       "      <td>0</td>\n",
       "      <td>0</td>\n",
       "      <td>0</td>\n",
       "      <td>0</td>\n",
       "      <td>0</td>\n",
       "      <td>0</td>\n",
       "      <td>0</td>\n",
       "      <td>0</td>\n",
       "      <td>0</td>\n",
       "      <td>1</td>\n",
       "      <td>...</td>\n",
       "      <td>0</td>\n",
       "      <td>0</td>\n",
       "      <td>0</td>\n",
       "      <td>1</td>\n",
       "      <td>0</td>\n",
       "      <td>0</td>\n",
       "      <td>0</td>\n",
       "      <td>0</td>\n",
       "      <td>0</td>\n",
       "      <td>Train</td>\n",
       "    </tr>\n",
       "    <tr>\n",
       "      <td>3</td>\n",
       "      <td>0</td>\n",
       "      <td>0</td>\n",
       "      <td>0</td>\n",
       "      <td>0</td>\n",
       "      <td>1</td>\n",
       "      <td>0</td>\n",
       "      <td>0</td>\n",
       "      <td>0</td>\n",
       "      <td>0</td>\n",
       "      <td>0</td>\n",
       "      <td>...</td>\n",
       "      <td>0</td>\n",
       "      <td>0</td>\n",
       "      <td>1</td>\n",
       "      <td>1</td>\n",
       "      <td>0</td>\n",
       "      <td>0</td>\n",
       "      <td>0</td>\n",
       "      <td>0</td>\n",
       "      <td>1</td>\n",
       "      <td>Train</td>\n",
       "    </tr>\n",
       "    <tr>\n",
       "      <td>4</td>\n",
       "      <td>0</td>\n",
       "      <td>0</td>\n",
       "      <td>0</td>\n",
       "      <td>0</td>\n",
       "      <td>0</td>\n",
       "      <td>1</td>\n",
       "      <td>0</td>\n",
       "      <td>0</td>\n",
       "      <td>0</td>\n",
       "      <td>0</td>\n",
       "      <td>...</td>\n",
       "      <td>0</td>\n",
       "      <td>0</td>\n",
       "      <td>0</td>\n",
       "      <td>1</td>\n",
       "      <td>0</td>\n",
       "      <td>0</td>\n",
       "      <td>0</td>\n",
       "      <td>0</td>\n",
       "      <td>0</td>\n",
       "      <td>Train</td>\n",
       "    </tr>\n",
       "  </tbody>\n",
       "</table>\n",
       "<p>5 rows × 54 columns</p>\n",
       "</div>"
      ],
      "text/plain": [
       "   Location_Kochi  Location_Coimbatore  Location_Bangalore  Location_Kolkata  \\\n",
       "0               0                    0                   0                 0   \n",
       "1               0                    0                   0                 0   \n",
       "2               0                    0                   0                 0   \n",
       "3               0                    0                   0                 0   \n",
       "4               0                    0                   0                 0   \n",
       "\n",
       "   Location_Mumbai  Location_Jaipur  Location_Delhi  Location_Pune  \\\n",
       "0                0                0               0              0   \n",
       "1                0                0               0              0   \n",
       "2                0                0               0              0   \n",
       "3                1                0               0              0   \n",
       "4                0                1               0              0   \n",
       "\n",
       "   Location_Chennai  Location_Hyderabad  ...  model_q7  model_citigo  \\\n",
       "0                 0                   0  ...         0             0   \n",
       "1                 0                   0  ...         0             0   \n",
       "2                 0                   1  ...         0             0   \n",
       "3                 0                   0  ...         0             0   \n",
       "4                 0                   0  ...         0             0   \n",
       "\n",
       "   model_juke  seat_count_5  seat_count_4  seat_count_7  seat_count_2  \\\n",
       "0           0             1             0             0             0   \n",
       "1           0             0             1             0             0   \n",
       "2           0             1             0             0             0   \n",
       "3           1             1             0             0             0   \n",
       "4           0             1             0             0             0   \n",
       "\n",
       "   seat_count_3  transmission_man   data  \n",
       "0             0                 1  Train  \n",
       "1             0                 1  Train  \n",
       "2             0                 0  Train  \n",
       "3             0                 1  Train  \n",
       "4             0                 0  Train  \n",
       "\n",
       "[5 rows x 54 columns]"
      ]
     },
     "execution_count": 72,
     "metadata": {},
     "output_type": "execute_result"
    }
   ],
   "source": [
    "df3.head()"
   ]
  },
  {
   "cell_type": "code",
   "execution_count": 73,
   "metadata": {},
   "outputs": [
    {
     "data": {
      "text/plain": [
       "(59130, 54)"
      ]
     },
     "execution_count": 73,
     "metadata": {},
     "output_type": "execute_result"
    }
   ],
   "source": [
    "df3.shape"
   ]
  },
  {
   "cell_type": "code",
   "execution_count": 74,
   "metadata": {},
   "outputs": [],
   "source": [
    "df3.drop(['data_Train'],axis=1,inplace=True)"
   ]
  },
  {
   "cell_type": "code",
   "execution_count": 75,
   "metadata": {},
   "outputs": [
    {
     "data": {
      "text/plain": [
       "(59130, 53)"
      ]
     },
     "execution_count": 75,
     "metadata": {},
     "output_type": "execute_result"
    }
   ],
   "source": [
    "df3.shape"
   ]
  },
  {
   "cell_type": "code",
   "execution_count": 76,
   "metadata": {},
   "outputs": [
    {
     "name": "stdout",
     "output_type": "stream",
     "text": [
      "<class 'pandas.core.frame.DataFrame'>\n",
      "Int64Index: 59130 entries, 0 to 5614\n",
      "Data columns (total 53 columns):\n",
      "Location_Kochi               59130 non-null int32\n",
      "Location_Coimbatore          59130 non-null int32\n",
      "Location_Bangalore           59130 non-null int32\n",
      "Location_Kolkata             59130 non-null int32\n",
      "Location_Mumbai              59130 non-null int32\n",
      "Location_Jaipur              59130 non-null int32\n",
      "Location_Delhi               59130 non-null int32\n",
      "Location_Pune                59130 non-null int32\n",
      "Location_Chennai             59130 non-null int32\n",
      "Location_Hyderabad           59130 non-null int32\n",
      "Maker_skoda                  59130 non-null int32\n",
      "Maker_toyota                 59130 non-null int32\n",
      "Maker_audi                   59130 non-null int32\n",
      "Maker_bmw                    59130 non-null int32\n",
      "Maker_nissan                 59130 non-null int32\n",
      "Maker_hyundai                59130 non-null int32\n",
      "Maker_fiat                   59130 non-null int32\n",
      "Owner Type_First             59130 non-null int32\n",
      "Owner Type_Third             59130 non-null int32\n",
      "Owner Type_Fourth & Above    59130 non-null int32\n",
      "door_count_4                 59130 non-null int32\n",
      "door_count_5                 59130 non-null int32\n",
      "door_count_2                 59130 non-null int32\n",
      "fuel_type_diesel             59130 non-null int32\n",
      "model_octavia                59130 non-null int32\n",
      "model_superb                 59130 non-null int32\n",
      "model_yaris                  59130 non-null int32\n",
      "model_qashqai                59130 non-null int32\n",
      "model_x3                     59130 non-null int32\n",
      "model_x1                     59130 non-null int32\n",
      "model_i30                    59130 non-null int32\n",
      "model_q5                     59130 non-null int32\n",
      "model_x5                     59130 non-null int32\n",
      "model_yeti                   59130 non-null int32\n",
      "model_panda                  59130 non-null int32\n",
      "model_q3                     59130 non-null int32\n",
      "model_coupe                  59130 non-null int32\n",
      "model_micra                  59130 non-null int32\n",
      "model_auris                  59130 non-null int32\n",
      "model_avensis                59130 non-null int32\n",
      "model_aygo                   59130 non-null int32\n",
      "model_rapid                  59130 non-null int32\n",
      "model_roomster               59130 non-null int32\n",
      "model_q7                     59130 non-null int32\n",
      "model_citigo                 59130 non-null int32\n",
      "model_juke                   59130 non-null int32\n",
      "seat_count_5                 59130 non-null int32\n",
      "seat_count_4                 59130 non-null int32\n",
      "seat_count_7                 59130 non-null int32\n",
      "seat_count_2                 59130 non-null int32\n",
      "seat_count_3                 59130 non-null int32\n",
      "transmission_man             59130 non-null int32\n",
      "data                         59130 non-null object\n",
      "dtypes: int32(52), object(1)\n",
      "memory usage: 15.1+ MB\n"
     ]
    }
   ],
   "source": [
    "df3.info()"
   ]
  },
  {
   "cell_type": "code",
   "execution_count": 77,
   "metadata": {},
   "outputs": [],
   "source": [
    "# concatenating catg and num data\n",
    "df4 = pd.concat((df1,df3),axis=1)"
   ]
  },
  {
   "cell_type": "code",
   "execution_count": 78,
   "metadata": {},
   "outputs": [
    {
     "data": {
      "text/plain": [
       "(59130, 60)"
      ]
     },
     "execution_count": 78,
     "metadata": {},
     "output_type": "execute_result"
    }
   ],
   "source": [
    "df4.shape"
   ]
  },
  {
   "cell_type": "code",
   "execution_count": 79,
   "metadata": {},
   "outputs": [
    {
     "data": {
      "text/plain": [
       "Age of car                      0\n",
       "Distance                     1339\n",
       "Price                        5615\n",
       "Vroom Audit Rating              0\n",
       "engine_displacement             0\n",
       "engine_power                 1607\n",
       "manufacture_year                0\n",
       "Location_Kochi                  0\n",
       "Location_Coimbatore             0\n",
       "Location_Bangalore              0\n",
       "Location_Kolkata                0\n",
       "Location_Mumbai                 0\n",
       "Location_Jaipur                 0\n",
       "Location_Delhi                  0\n",
       "Location_Pune                   0\n",
       "Location_Chennai                0\n",
       "Location_Hyderabad              0\n",
       "Maker_skoda                     0\n",
       "Maker_toyota                    0\n",
       "Maker_audi                      0\n",
       "Maker_bmw                       0\n",
       "Maker_nissan                    0\n",
       "Maker_hyundai                   0\n",
       "Maker_fiat                      0\n",
       "Owner Type_First                0\n",
       "Owner Type_Third                0\n",
       "Owner Type_Fourth & Above       0\n",
       "door_count_4                    0\n",
       "door_count_5                    0\n",
       "door_count_2                    0\n",
       "fuel_type_diesel                0\n",
       "model_octavia                   0\n",
       "model_superb                    0\n",
       "model_yaris                     0\n",
       "model_qashqai                   0\n",
       "model_x3                        0\n",
       "model_x1                        0\n",
       "model_i30                       0\n",
       "model_q5                        0\n",
       "model_x5                        0\n",
       "model_yeti                      0\n",
       "model_panda                     0\n",
       "model_q3                        0\n",
       "model_coupe                     0\n",
       "model_micra                     0\n",
       "model_auris                     0\n",
       "model_avensis                   0\n",
       "model_aygo                      0\n",
       "model_rapid                     0\n",
       "model_roomster                  0\n",
       "model_q7                        0\n",
       "model_citigo                    0\n",
       "model_juke                      0\n",
       "seat_count_5                    0\n",
       "seat_count_4                    0\n",
       "seat_count_7                    0\n",
       "seat_count_2                    0\n",
       "seat_count_3                    0\n",
       "transmission_man                0\n",
       "data                            0\n",
       "dtype: int64"
      ]
     },
     "execution_count": 79,
     "metadata": {},
     "output_type": "execute_result"
    }
   ],
   "source": [
    "df4.isnull().sum()"
   ]
  },
  {
   "cell_type": "code",
   "execution_count": 85,
   "metadata": {},
   "outputs": [],
   "source": [
    "temp = df4[['Price','data']]"
   ]
  },
  {
   "cell_type": "code",
   "execution_count": 86,
   "metadata": {},
   "outputs": [],
   "source": [
    "df4.drop(['Price','data'],axis=1,inplace=True)"
   ]
  },
  {
   "cell_type": "code",
   "execution_count": 87,
   "metadata": {},
   "outputs": [
    {
     "data": {
      "text/plain": [
       "(59130, 58)"
      ]
     },
     "execution_count": 87,
     "metadata": {},
     "output_type": "execute_result"
    }
   ],
   "source": [
    "df4.shape"
   ]
  },
  {
   "cell_type": "code",
   "execution_count": 88,
   "metadata": {},
   "outputs": [
    {
     "name": "stdout",
     "output_type": "stream",
     "text": [
      "<class 'pandas.core.frame.DataFrame'>\n",
      "Int64Index: 59130 entries, 0 to 5614\n",
      "Data columns (total 58 columns):\n",
      "Age of car                   59130 non-null int64\n",
      "Distance                     57791 non-null float64\n",
      "Vroom Audit Rating           59130 non-null int64\n",
      "engine_displacement          59130 non-null int64\n",
      "engine_power                 57523 non-null float64\n",
      "manufacture_year             59130 non-null int64\n",
      "Location_Kochi               59130 non-null int32\n",
      "Location_Coimbatore          59130 non-null int32\n",
      "Location_Bangalore           59130 non-null int32\n",
      "Location_Kolkata             59130 non-null int32\n",
      "Location_Mumbai              59130 non-null int32\n",
      "Location_Jaipur              59130 non-null int32\n",
      "Location_Delhi               59130 non-null int32\n",
      "Location_Pune                59130 non-null int32\n",
      "Location_Chennai             59130 non-null int32\n",
      "Location_Hyderabad           59130 non-null int32\n",
      "Maker_skoda                  59130 non-null int32\n",
      "Maker_toyota                 59130 non-null int32\n",
      "Maker_audi                   59130 non-null int32\n",
      "Maker_bmw                    59130 non-null int32\n",
      "Maker_nissan                 59130 non-null int32\n",
      "Maker_hyundai                59130 non-null int32\n",
      "Maker_fiat                   59130 non-null int32\n",
      "Owner Type_First             59130 non-null int32\n",
      "Owner Type_Third             59130 non-null int32\n",
      "Owner Type_Fourth & Above    59130 non-null int32\n",
      "door_count_4                 59130 non-null int32\n",
      "door_count_5                 59130 non-null int32\n",
      "door_count_2                 59130 non-null int32\n",
      "fuel_type_diesel             59130 non-null int32\n",
      "model_octavia                59130 non-null int32\n",
      "model_superb                 59130 non-null int32\n",
      "model_yaris                  59130 non-null int32\n",
      "model_qashqai                59130 non-null int32\n",
      "model_x3                     59130 non-null int32\n",
      "model_x1                     59130 non-null int32\n",
      "model_i30                    59130 non-null int32\n",
      "model_q5                     59130 non-null int32\n",
      "model_x5                     59130 non-null int32\n",
      "model_yeti                   59130 non-null int32\n",
      "model_panda                  59130 non-null int32\n",
      "model_q3                     59130 non-null int32\n",
      "model_coupe                  59130 non-null int32\n",
      "model_micra                  59130 non-null int32\n",
      "model_auris                  59130 non-null int32\n",
      "model_avensis                59130 non-null int32\n",
      "model_aygo                   59130 non-null int32\n",
      "model_rapid                  59130 non-null int32\n",
      "model_roomster               59130 non-null int32\n",
      "model_q7                     59130 non-null int32\n",
      "model_citigo                 59130 non-null int32\n",
      "model_juke                   59130 non-null int32\n",
      "seat_count_5                 59130 non-null int32\n",
      "seat_count_4                 59130 non-null int32\n",
      "seat_count_7                 59130 non-null int32\n",
      "seat_count_2                 59130 non-null int32\n",
      "seat_count_3                 59130 non-null int32\n",
      "transmission_man             59130 non-null int32\n",
      "dtypes: float64(2), int32(52), int64(4)\n",
      "memory usage: 17.4 MB\n"
     ]
    }
   ],
   "source": [
    "df4.info()"
   ]
  },
  {
   "cell_type": "code",
   "execution_count": 95,
   "metadata": {},
   "outputs": [],
   "source": [
    "df4['Distance '].fillna(value=df4['Distance '].median(),inplace=True)"
   ]
  },
  {
   "cell_type": "code",
   "execution_count": 98,
   "metadata": {},
   "outputs": [],
   "source": [
    "df4['engine_power'].fillna(value=df4['engine_power'].median(),inplace=True)"
   ]
  },
  {
   "cell_type": "code",
   "execution_count": 99,
   "metadata": {},
   "outputs": [
    {
     "data": {
      "text/plain": [
       "Age of car                   0\n",
       "Distance                     0\n",
       "Vroom Audit Rating           0\n",
       "engine_displacement          0\n",
       "engine_power                 0\n",
       "manufacture_year             0\n",
       "Location_Kochi               0\n",
       "Location_Coimbatore          0\n",
       "Location_Bangalore           0\n",
       "Location_Kolkata             0\n",
       "Location_Mumbai              0\n",
       "Location_Jaipur              0\n",
       "Location_Delhi               0\n",
       "Location_Pune                0\n",
       "Location_Chennai             0\n",
       "Location_Hyderabad           0\n",
       "Maker_skoda                  0\n",
       "Maker_toyota                 0\n",
       "Maker_audi                   0\n",
       "Maker_bmw                    0\n",
       "Maker_nissan                 0\n",
       "Maker_hyundai                0\n",
       "Maker_fiat                   0\n",
       "Owner Type_First             0\n",
       "Owner Type_Third             0\n",
       "Owner Type_Fourth & Above    0\n",
       "door_count_4                 0\n",
       "door_count_5                 0\n",
       "door_count_2                 0\n",
       "fuel_type_diesel             0\n",
       "model_octavia                0\n",
       "model_superb                 0\n",
       "model_yaris                  0\n",
       "model_qashqai                0\n",
       "model_x3                     0\n",
       "model_x1                     0\n",
       "model_i30                    0\n",
       "model_q5                     0\n",
       "model_x5                     0\n",
       "model_yeti                   0\n",
       "model_panda                  0\n",
       "model_q3                     0\n",
       "model_coupe                  0\n",
       "model_micra                  0\n",
       "model_auris                  0\n",
       "model_avensis                0\n",
       "model_aygo                   0\n",
       "model_rapid                  0\n",
       "model_roomster               0\n",
       "model_q7                     0\n",
       "model_citigo                 0\n",
       "model_juke                   0\n",
       "seat_count_5                 0\n",
       "seat_count_4                 0\n",
       "seat_count_7                 0\n",
       "seat_count_2                 0\n",
       "seat_count_3                 0\n",
       "transmission_man             0\n",
       "dtype: int64"
      ]
     },
     "execution_count": 99,
     "metadata": {},
     "output_type": "execute_result"
    }
   ],
   "source": [
    "df4.isnull().sum()"
   ]
  },
  {
   "cell_type": "code",
   "execution_count": 100,
   "metadata": {},
   "outputs": [],
   "source": [
    "fin_df = pd.concat((df4,temp),axis=1)"
   ]
  },
  {
   "cell_type": "code",
   "execution_count": 101,
   "metadata": {},
   "outputs": [
    {
     "data": {
      "text/plain": [
       "(59130, 60)"
      ]
     },
     "execution_count": 101,
     "metadata": {},
     "output_type": "execute_result"
    }
   ],
   "source": [
    "fin_df.shape"
   ]
  },
  {
   "cell_type": "code",
   "execution_count": 103,
   "metadata": {},
   "outputs": [
    {
     "data": {
      "text/plain": [
       "Age of car                      0\n",
       "Distance                        0\n",
       "Vroom Audit Rating              0\n",
       "engine_displacement             0\n",
       "engine_power                    0\n",
       "manufacture_year                0\n",
       "Location_Kochi                  0\n",
       "Location_Coimbatore             0\n",
       "Location_Bangalore              0\n",
       "Location_Kolkata                0\n",
       "Location_Mumbai                 0\n",
       "Location_Jaipur                 0\n",
       "Location_Delhi                  0\n",
       "Location_Pune                   0\n",
       "Location_Chennai                0\n",
       "Location_Hyderabad              0\n",
       "Maker_skoda                     0\n",
       "Maker_toyota                    0\n",
       "Maker_audi                      0\n",
       "Maker_bmw                       0\n",
       "Maker_nissan                    0\n",
       "Maker_hyundai                   0\n",
       "Maker_fiat                      0\n",
       "Owner Type_First                0\n",
       "Owner Type_Third                0\n",
       "Owner Type_Fourth & Above       0\n",
       "door_count_4                    0\n",
       "door_count_5                    0\n",
       "door_count_2                    0\n",
       "fuel_type_diesel                0\n",
       "model_octavia                   0\n",
       "model_superb                    0\n",
       "model_yaris                     0\n",
       "model_qashqai                   0\n",
       "model_x3                        0\n",
       "model_x1                        0\n",
       "model_i30                       0\n",
       "model_q5                        0\n",
       "model_x5                        0\n",
       "model_yeti                      0\n",
       "model_panda                     0\n",
       "model_q3                        0\n",
       "model_coupe                     0\n",
       "model_micra                     0\n",
       "model_auris                     0\n",
       "model_avensis                   0\n",
       "model_aygo                      0\n",
       "model_rapid                     0\n",
       "model_roomster                  0\n",
       "model_q7                        0\n",
       "model_citigo                    0\n",
       "model_juke                      0\n",
       "seat_count_5                    0\n",
       "seat_count_4                    0\n",
       "seat_count_7                    0\n",
       "seat_count_2                    0\n",
       "seat_count_3                    0\n",
       "transmission_man                0\n",
       "Price                        5615\n",
       "data                            0\n",
       "dtype: int64"
      ]
     },
     "execution_count": 103,
     "metadata": {},
     "output_type": "execute_result"
    }
   ],
   "source": [
    "fin_df.isnull().sum()"
   ]
  },
  {
   "cell_type": "code",
   "execution_count": 104,
   "metadata": {},
   "outputs": [
    {
     "name": "stderr",
     "output_type": "stream",
     "text": [
      "C:\\ProgramData\\Anaconda3\\lib\\site-packages\\pandas\\core\\frame.py:4102: SettingWithCopyWarning: \n",
      "A value is trying to be set on a copy of a slice from a DataFrame\n",
      "\n",
      "See the caveats in the documentation: http://pandas.pydata.org/pandas-docs/stable/user_guide/indexing.html#returning-a-view-versus-a-copy\n",
      "  errors=errors,\n"
     ]
    }
   ],
   "source": [
    "# splitting train and test datasets\n",
    "train_data = fin_df[fin_df['data']=='Train']\n",
    "del train_data['data']\n",
    "test_data = fin_df[fin_df['data']=='Test']\n",
    "test_data.drop(['Price','data'],axis=1,inplace=True)"
   ]
  },
  {
   "cell_type": "code",
   "execution_count": 105,
   "metadata": {},
   "outputs": [
    {
     "data": {
      "text/plain": [
       "(53515, 59)"
      ]
     },
     "execution_count": 105,
     "metadata": {},
     "output_type": "execute_result"
    }
   ],
   "source": [
    "train_data.shape"
   ]
  },
  {
   "cell_type": "code",
   "execution_count": 106,
   "metadata": {},
   "outputs": [
    {
     "data": {
      "text/plain": [
       "(5615, 58)"
      ]
     },
     "execution_count": 106,
     "metadata": {},
     "output_type": "execute_result"
    }
   ],
   "source": [
    "test_data.shape"
   ]
  },
  {
   "cell_type": "code",
   "execution_count": 107,
   "metadata": {},
   "outputs": [],
   "source": [
    "from sklearn.model_selection import train_test_split\n",
    "from sklearn.linear_model import LinearRegression"
   ]
  },
  {
   "cell_type": "code",
   "execution_count": 108,
   "metadata": {},
   "outputs": [],
   "source": [
    "X = train_data.drop(('Price'),axis=1)\n",
    "y = train_data['Price']"
   ]
  },
  {
   "cell_type": "code",
   "execution_count": 109,
   "metadata": {},
   "outputs": [],
   "source": [
    "x_train,x_test,y_train,y_test = train_test_split(X,y,test_size=0.3,random_state=12)"
   ]
  },
  {
   "cell_type": "code",
   "execution_count": 110,
   "metadata": {},
   "outputs": [
    {
     "name": "stdout",
     "output_type": "stream",
     "text": [
      "(37460, 58)\n",
      "(37460,)\n",
      "(16055, 58)\n",
      "(16055,)\n"
     ]
    }
   ],
   "source": [
    "print(x_train.shape)\n",
    "print(y_train.shape)\n",
    "print(x_test.shape)\n",
    "print(y_test.shape)"
   ]
  },
  {
   "cell_type": "code",
   "execution_count": 111,
   "metadata": {},
   "outputs": [],
   "source": [
    "lr = LinearRegression()"
   ]
  },
  {
   "cell_type": "code",
   "execution_count": 112,
   "metadata": {},
   "outputs": [
    {
     "data": {
      "text/plain": [
       "LinearRegression(copy_X=True, fit_intercept=True, n_jobs=None, normalize=False)"
      ]
     },
     "execution_count": 112,
     "metadata": {},
     "output_type": "execute_result"
    }
   ],
   "source": [
    "lr.fit(x_train,y_train)"
   ]
  },
  {
   "cell_type": "code",
   "execution_count": 113,
   "metadata": {},
   "outputs": [
    {
     "data": {
      "text/plain": [
       "-85202576.94611259"
      ]
     },
     "execution_count": 113,
     "metadata": {},
     "output_type": "execute_result"
    }
   ],
   "source": [
    "lr.intercept_"
   ]
  },
  {
   "cell_type": "code",
   "execution_count": 114,
   "metadata": {},
   "outputs": [],
   "source": [
    "y_pred = lr.predict(x_test)"
   ]
  },
  {
   "cell_type": "code",
   "execution_count": 115,
   "metadata": {},
   "outputs": [
    {
     "data": {
      "text/plain": [
       "419557.6938489421"
      ]
     },
     "execution_count": 115,
     "metadata": {},
     "output_type": "execute_result"
    }
   ],
   "source": [
    "mean_squared_error(y_test,y_pred)**0.5"
   ]
  },
  {
   "cell_type": "code",
   "execution_count": 116,
   "metadata": {},
   "outputs": [],
   "source": [
    "import statsmodels.api as sm"
   ]
  },
  {
   "cell_type": "code",
   "execution_count": 117,
   "metadata": {},
   "outputs": [
    {
     "name": "stderr",
     "output_type": "stream",
     "text": [
      "C:\\ProgramData\\Anaconda3\\lib\\site-packages\\numpy\\core\\fromnumeric.py:2389: FutureWarning: Method .ptp is deprecated and will be removed in a future version. Use numpy.ptp instead.\n",
      "  return ptp(axis=axis, out=out, **kwargs)\n"
     ]
    },
    {
     "data": {
      "text/html": [
       "<table class=\"simpletable\">\n",
       "<caption>OLS Regression Results</caption>\n",
       "<tr>\n",
       "  <th>Dep. Variable:</th>          <td>Price</td>      <th>  R-squared:         </th>  <td>   0.731</td>  \n",
       "</tr>\n",
       "<tr>\n",
       "  <th>Model:</th>                   <td>OLS</td>       <th>  Adj. R-squared:    </th>  <td>   0.731</td>  \n",
       "</tr>\n",
       "<tr>\n",
       "  <th>Method:</th>             <td>Least Squares</td>  <th>  F-statistic:       </th>  <td>   2738.</td>  \n",
       "</tr>\n",
       "<tr>\n",
       "  <th>Date:</th>             <td>Tue, 04 Aug 2020</td> <th>  Prob (F-statistic):</th>   <td>  0.00</td>   \n",
       "</tr>\n",
       "<tr>\n",
       "  <th>Time:</th>                 <td>16:45:14</td>     <th>  Log-Likelihood:    </th> <td>-7.7109e+05</td>\n",
       "</tr>\n",
       "<tr>\n",
       "  <th>No. Observations:</th>      <td> 53515</td>      <th>  AIC:               </th>  <td>1.542e+06</td> \n",
       "</tr>\n",
       "<tr>\n",
       "  <th>Df Residuals:</th>          <td> 53461</td>      <th>  BIC:               </th>  <td>1.543e+06</td> \n",
       "</tr>\n",
       "<tr>\n",
       "  <th>Df Model:</th>              <td>    53</td>      <th>                     </th>      <td> </td>     \n",
       "</tr>\n",
       "<tr>\n",
       "  <th>Covariance Type:</th>      <td>nonrobust</td>    <th>                     </th>      <td> </td>     \n",
       "</tr>\n",
       "</table>\n",
       "<table class=\"simpletable\">\n",
       "<tr>\n",
       "              <td></td>                 <th>coef</th>     <th>std err</th>      <th>t</th>      <th>P>|t|</th>  <th>[0.025</th>    <th>0.975]</th>  \n",
       "</tr>\n",
       "<tr>\n",
       "  <th>const</th>                     <td>  -41.3274</td> <td>    0.248</td> <td> -166.348</td> <td> 0.000</td> <td>  -41.814</td> <td>  -40.841</td>\n",
       "</tr>\n",
       "<tr>\n",
       "  <th>Age of car</th>                <td>-8.453e+04</td> <td>  496.397</td> <td> -170.295</td> <td> 0.000</td> <td>-8.55e+04</td> <td>-8.36e+04</td>\n",
       "</tr>\n",
       "<tr>\n",
       "  <th>Distance </th>                 <td>   -0.1704</td> <td>    0.007</td> <td>  -23.688</td> <td> 0.000</td> <td>   -0.185</td> <td>   -0.156</td>\n",
       "</tr>\n",
       "<tr>\n",
       "  <th>Vroom Audit Rating</th>        <td> 1048.6563</td> <td> 1336.241</td> <td>    0.785</td> <td> 0.433</td> <td>-1570.388</td> <td> 3667.700</td>\n",
       "</tr>\n",
       "<tr>\n",
       "  <th>engine_displacement</th>       <td>   -3.1757</td> <td>    1.368</td> <td>   -2.322</td> <td> 0.020</td> <td>   -5.856</td> <td>   -0.495</td>\n",
       "</tr>\n",
       "<tr>\n",
       "  <th>engine_power</th>              <td> 4239.4598</td> <td>   76.487</td> <td>   55.427</td> <td> 0.000</td> <td> 4089.545</td> <td> 4389.375</td>\n",
       "</tr>\n",
       "<tr>\n",
       "  <th>manufacture_year</th>          <td> 1094.0159</td> <td>   59.168</td> <td>   18.490</td> <td> 0.000</td> <td>  978.046</td> <td> 1209.986</td>\n",
       "</tr>\n",
       "<tr>\n",
       "  <th>Location_Kochi</th>            <td>  1.99e+04</td> <td> 8885.727</td> <td>    2.240</td> <td> 0.025</td> <td> 2486.254</td> <td> 3.73e+04</td>\n",
       "</tr>\n",
       "<tr>\n",
       "  <th>Location_Coimbatore</th>       <td> 2.391e+04</td> <td> 8883.550</td> <td>    2.692</td> <td> 0.007</td> <td> 6498.526</td> <td> 4.13e+04</td>\n",
       "</tr>\n",
       "<tr>\n",
       "  <th>Location_Bangalore</th>        <td> 6470.4788</td> <td> 8926.251</td> <td>    0.725</td> <td> 0.469</td> <td> -1.1e+04</td> <td>  2.4e+04</td>\n",
       "</tr>\n",
       "<tr>\n",
       "  <th>Location_Kolkata</th>          <td> 1.511e+04</td> <td> 8931.233</td> <td>    1.692</td> <td> 0.091</td> <td>-2394.143</td> <td> 3.26e+04</td>\n",
       "</tr>\n",
       "<tr>\n",
       "  <th>Location_Mumbai</th>           <td>  1.22e+04</td> <td> 8934.585</td> <td>    1.366</td> <td> 0.172</td> <td>-5309.766</td> <td> 2.97e+04</td>\n",
       "</tr>\n",
       "<tr>\n",
       "  <th>Location_Jaipur</th>           <td> 1.718e+04</td> <td> 8930.896</td> <td>    1.924</td> <td> 0.054</td> <td> -322.123</td> <td> 3.47e+04</td>\n",
       "</tr>\n",
       "<tr>\n",
       "  <th>Location_Delhi</th>            <td> 7940.5989</td> <td> 8952.043</td> <td>    0.887</td> <td> 0.375</td> <td>-9605.481</td> <td> 2.55e+04</td>\n",
       "</tr>\n",
       "<tr>\n",
       "  <th>Location_Pune</th>             <td> 1.208e+04</td> <td> 8935.398</td> <td>    1.352</td> <td> 0.177</td> <td>-5436.817</td> <td> 2.96e+04</td>\n",
       "</tr>\n",
       "<tr>\n",
       "  <th>Location_Chennai</th>          <td> 1.957e+04</td> <td> 8946.002</td> <td>    2.188</td> <td> 0.029</td> <td> 2035.739</td> <td> 3.71e+04</td>\n",
       "</tr>\n",
       "<tr>\n",
       "  <th>Location_Hyderabad</th>        <td> 1.384e+04</td> <td> 8961.184</td> <td>    1.544</td> <td> 0.123</td> <td>-3727.172</td> <td> 3.14e+04</td>\n",
       "</tr>\n",
       "<tr>\n",
       "  <th>Maker_skoda</th>               <td>-6.721e+05</td> <td> 6.54e+04</td> <td>  -10.279</td> <td> 0.000</td> <td>   -8e+05</td> <td>-5.44e+05</td>\n",
       "</tr>\n",
       "<tr>\n",
       "  <th>Maker_toyota</th>              <td>-6.467e+05</td> <td>  6.1e+04</td> <td>  -10.594</td> <td> 0.000</td> <td>-7.66e+05</td> <td>-5.27e+05</td>\n",
       "</tr>\n",
       "<tr>\n",
       "  <th>Maker_audi</th>                <td>-1.949e+05</td> <td> 7.29e+04</td> <td>   -2.674</td> <td> 0.008</td> <td>-3.38e+05</td> <td> -5.2e+04</td>\n",
       "</tr>\n",
       "<tr>\n",
       "  <th>Maker_bmw</th>                 <td>-1.034e+05</td> <td> 5.67e+04</td> <td>   -1.825</td> <td> 0.068</td> <td>-2.15e+05</td> <td> 7674.021</td>\n",
       "</tr>\n",
       "<tr>\n",
       "  <th>Maker_nissan</th>              <td>-5.578e+05</td> <td> 5.73e+04</td> <td>   -9.728</td> <td> 0.000</td> <td> -6.7e+05</td> <td>-4.45e+05</td>\n",
       "</tr>\n",
       "<tr>\n",
       "  <th>Maker_hyundai</th>             <td>-8.706e+05</td> <td> 7.93e+04</td> <td>  -10.984</td> <td> 0.000</td> <td>-1.03e+06</td> <td>-7.15e+05</td>\n",
       "</tr>\n",
       "<tr>\n",
       "  <th>Maker_fiat</th>                <td> 2.666e+05</td> <td> 8.82e+04</td> <td>    3.022</td> <td> 0.003</td> <td> 9.37e+04</td> <td> 4.39e+05</td>\n",
       "</tr>\n",
       "<tr>\n",
       "  <th>Owner Type_First</th>          <td> 8871.7406</td> <td> 5359.736</td> <td>    1.655</td> <td> 0.098</td> <td>-1633.387</td> <td> 1.94e+04</td>\n",
       "</tr>\n",
       "<tr>\n",
       "  <th>Owner Type_Third</th>          <td> -978.9955</td> <td> 5361.391</td> <td>   -0.183</td> <td> 0.855</td> <td>-1.15e+04</td> <td> 9529.376</td>\n",
       "</tr>\n",
       "<tr>\n",
       "  <th>Owner Type_Fourth & Above</th> <td>-3792.2794</td> <td> 5364.571</td> <td>   -0.707</td> <td> 0.480</td> <td>-1.43e+04</td> <td> 6722.324</td>\n",
       "</tr>\n",
       "<tr>\n",
       "  <th>door_count_4</th>              <td>-3.051e+04</td> <td> 3.27e+04</td> <td>   -0.933</td> <td> 0.351</td> <td>-9.46e+04</td> <td> 3.36e+04</td>\n",
       "</tr>\n",
       "<tr>\n",
       "  <th>door_count_5</th>              <td>-5.093e+04</td> <td> 3.31e+04</td> <td>   -1.539</td> <td> 0.124</td> <td>-1.16e+05</td> <td> 1.39e+04</td>\n",
       "</tr>\n",
       "<tr>\n",
       "  <th>door_count_2</th>              <td> 1.828e+05</td> <td> 3.32e+04</td> <td>    5.510</td> <td> 0.000</td> <td> 1.18e+05</td> <td> 2.48e+05</td>\n",
       "</tr>\n",
       "<tr>\n",
       "  <th>fuel_type_diesel</th>          <td> 3.896e+04</td> <td> 4649.972</td> <td>    8.378</td> <td> 0.000</td> <td> 2.98e+04</td> <td> 4.81e+04</td>\n",
       "</tr>\n",
       "<tr>\n",
       "  <th>model_octavia</th>             <td>-7118.3542</td> <td> 1.22e+04</td> <td>   -0.585</td> <td> 0.558</td> <td>-3.09e+04</td> <td> 1.67e+04</td>\n",
       "</tr>\n",
       "<tr>\n",
       "  <th>model_superb</th>              <td> 4.211e+04</td> <td> 1.34e+04</td> <td>    3.143</td> <td> 0.002</td> <td> 1.59e+04</td> <td> 6.84e+04</td>\n",
       "</tr>\n",
       "<tr>\n",
       "  <th>model_yaris</th>               <td>-1.843e+05</td> <td> 1.73e+04</td> <td>  -10.648</td> <td> 0.000</td> <td>-2.18e+05</td> <td> -1.5e+05</td>\n",
       "</tr>\n",
       "<tr>\n",
       "  <th>model_qashqai</th>             <td>-2.322e+04</td> <td> 2.06e+04</td> <td>   -1.129</td> <td> 0.259</td> <td>-6.35e+04</td> <td> 1.71e+04</td>\n",
       "</tr>\n",
       "<tr>\n",
       "  <th>model_x3</th>                  <td> 4.936e+04</td> <td> 2.03e+04</td> <td>    2.433</td> <td> 0.015</td> <td> 9603.528</td> <td> 8.91e+04</td>\n",
       "</tr>\n",
       "<tr>\n",
       "  <th>model_x1</th>                  <td>-1.943e+05</td> <td> 2.08e+04</td> <td>   -9.358</td> <td> 0.000</td> <td>-2.35e+05</td> <td>-1.54e+05</td>\n",
       "</tr>\n",
       "<tr>\n",
       "  <th>model_i30</th>                 <td>-2.041e+04</td> <td> 3.94e+04</td> <td>   -0.518</td> <td> 0.605</td> <td>-9.77e+04</td> <td> 5.68e+04</td>\n",
       "</tr>\n",
       "<tr>\n",
       "  <th>model_q5</th>                  <td> 3.401e+05</td> <td> 2.19e+04</td> <td>   15.565</td> <td> 0.000</td> <td> 2.97e+05</td> <td> 3.83e+05</td>\n",
       "</tr>\n",
       "<tr>\n",
       "  <th>model_x5</th>                  <td> 4.153e+04</td> <td> 2.03e+04</td> <td>    2.044</td> <td> 0.041</td> <td> 1702.114</td> <td> 8.14e+04</td>\n",
       "</tr>\n",
       "<tr>\n",
       "  <th>model_yeti</th>                <td> 4.655e+04</td> <td> 1.44e+04</td> <td>    3.231</td> <td> 0.001</td> <td> 1.83e+04</td> <td> 7.48e+04</td>\n",
       "</tr>\n",
       "<tr>\n",
       "  <th>model_panda</th>               <td>-1.063e+06</td> <td> 5.62e+04</td> <td>  -18.923</td> <td> 0.000</td> <td>-1.17e+06</td> <td>-9.53e+05</td>\n",
       "</tr>\n",
       "<tr>\n",
       "  <th>model_q3</th>                  <td> 2.433e+05</td> <td> 2.24e+04</td> <td>   10.869</td> <td> 0.000</td> <td> 1.99e+05</td> <td> 2.87e+05</td>\n",
       "</tr>\n",
       "<tr>\n",
       "  <th>model_coupe</th>               <td> 3.277e+04</td> <td> 2.11e+04</td> <td>    1.551</td> <td> 0.121</td> <td>-8639.452</td> <td> 7.42e+04</td>\n",
       "</tr>\n",
       "<tr>\n",
       "  <th>model_micra</th>               <td>-2.615e+05</td> <td> 2.15e+04</td> <td>  -12.180</td> <td> 0.000</td> <td>-3.04e+05</td> <td>-2.19e+05</td>\n",
       "</tr>\n",
       "<tr>\n",
       "  <th>model_auris</th>               <td>-1.237e+05</td> <td> 1.81e+04</td> <td>   -6.850</td> <td> 0.000</td> <td>-1.59e+05</td> <td>-8.83e+04</td>\n",
       "</tr>\n",
       "<tr>\n",
       "  <th>model_avensis</th>             <td>-1.135e+04</td> <td> 1.82e+04</td> <td>   -0.625</td> <td> 0.532</td> <td> -4.7e+04</td> <td> 2.43e+04</td>\n",
       "</tr>\n",
       "<tr>\n",
       "  <th>model_aygo</th>                <td>-3.273e+05</td> <td> 1.94e+04</td> <td>  -16.874</td> <td> 0.000</td> <td>-3.65e+05</td> <td>-2.89e+05</td>\n",
       "</tr>\n",
       "<tr>\n",
       "  <th>model_rapid</th>               <td>-2.005e+05</td> <td> 1.56e+04</td> <td>  -12.883</td> <td> 0.000</td> <td>-2.31e+05</td> <td> -1.7e+05</td>\n",
       "</tr>\n",
       "<tr>\n",
       "  <th>model_roomster</th>            <td> -1.42e+05</td> <td> 1.57e+04</td> <td>   -9.043</td> <td> 0.000</td> <td>-1.73e+05</td> <td>-1.11e+05</td>\n",
       "</tr>\n",
       "<tr>\n",
       "  <th>model_q7</th>                  <td> 5.968e+05</td> <td>  2.4e+04</td> <td>   24.860</td> <td> 0.000</td> <td>  5.5e+05</td> <td> 6.44e+05</td>\n",
       "</tr>\n",
       "<tr>\n",
       "  <th>model_citigo</th>              <td>-4.111e+05</td> <td> 1.84e+04</td> <td>  -22.347</td> <td> 0.000</td> <td>-4.47e+05</td> <td>-3.75e+05</td>\n",
       "</tr>\n",
       "<tr>\n",
       "  <th>model_juke</th>                <td>-2.731e+05</td> <td> 2.22e+04</td> <td>  -12.315</td> <td> 0.000</td> <td>-3.17e+05</td> <td> -2.3e+05</td>\n",
       "</tr>\n",
       "<tr>\n",
       "  <th>seat_count_5</th>              <td>-1.041e+05</td> <td> 8.47e+04</td> <td>   -1.229</td> <td> 0.219</td> <td> -2.7e+05</td> <td> 6.19e+04</td>\n",
       "</tr>\n",
       "<tr>\n",
       "  <th>seat_count_4</th>              <td>-1.871e+05</td> <td> 8.55e+04</td> <td>   -2.187</td> <td> 0.029</td> <td>-3.55e+05</td> <td>-1.94e+04</td>\n",
       "</tr>\n",
       "<tr>\n",
       "  <th>seat_count_7</th>              <td> 7.972e+04</td> <td> 8.58e+04</td> <td>    0.930</td> <td> 0.353</td> <td>-8.84e+04</td> <td> 2.48e+05</td>\n",
       "</tr>\n",
       "<tr>\n",
       "  <th>seat_count_2</th>              <td>-1.784e+05</td> <td> 8.73e+04</td> <td>   -2.043</td> <td> 0.041</td> <td> -3.5e+05</td> <td>-7248.707</td>\n",
       "</tr>\n",
       "<tr>\n",
       "  <th>seat_count_3</th>              <td> 6.649e+05</td> <td> 9.59e+04</td> <td>    6.932</td> <td> 0.000</td> <td> 4.77e+05</td> <td> 8.53e+05</td>\n",
       "</tr>\n",
       "<tr>\n",
       "  <th>transmission_man</th>          <td>-2.133e+05</td> <td> 5089.859</td> <td>  -41.902</td> <td> 0.000</td> <td>-2.23e+05</td> <td>-2.03e+05</td>\n",
       "</tr>\n",
       "</table>\n",
       "<table class=\"simpletable\">\n",
       "<tr>\n",
       "  <th>Omnibus:</th>       <td>62912.314</td> <th>  Durbin-Watson:     </th>   <td>   1.994</td>  \n",
       "</tr>\n",
       "<tr>\n",
       "  <th>Prob(Omnibus):</th>  <td> 0.000</td>   <th>  Jarque-Bera (JB):  </th> <td>42815060.961</td>\n",
       "</tr>\n",
       "<tr>\n",
       "  <th>Skew:</th>           <td> 5.560</td>   <th>  Prob(JB):          </th>   <td>    0.00</td>  \n",
       "</tr>\n",
       "<tr>\n",
       "  <th>Kurtosis:</th>       <td>141.122</td>  <th>  Cond. No.          </th>   <td>3.00e+21</td>  \n",
       "</tr>\n",
       "</table><br/><br/>Warnings:<br/>[1] Standard Errors assume that the covariance matrix of the errors is correctly specified.<br/>[2] The smallest eigenvalue is 4.93e-28. This might indicate that there are<br/>strong multicollinearity problems or that the design matrix is singular."
      ],
      "text/plain": [
       "<class 'statsmodels.iolib.summary.Summary'>\n",
       "\"\"\"\n",
       "                            OLS Regression Results                            \n",
       "==============================================================================\n",
       "Dep. Variable:                  Price   R-squared:                       0.731\n",
       "Model:                            OLS   Adj. R-squared:                  0.731\n",
       "Method:                 Least Squares   F-statistic:                     2738.\n",
       "Date:                Tue, 04 Aug 2020   Prob (F-statistic):               0.00\n",
       "Time:                        16:45:14   Log-Likelihood:            -7.7109e+05\n",
       "No. Observations:               53515   AIC:                         1.542e+06\n",
       "Df Residuals:                   53461   BIC:                         1.543e+06\n",
       "Df Model:                          53                                         \n",
       "Covariance Type:            nonrobust                                         \n",
       "=============================================================================================\n",
       "                                coef    std err          t      P>|t|      [0.025      0.975]\n",
       "---------------------------------------------------------------------------------------------\n",
       "const                       -41.3274      0.248   -166.348      0.000     -41.814     -40.841\n",
       "Age of car                -8.453e+04    496.397   -170.295      0.000   -8.55e+04   -8.36e+04\n",
       "Distance                     -0.1704      0.007    -23.688      0.000      -0.185      -0.156\n",
       "Vroom Audit Rating         1048.6563   1336.241      0.785      0.433   -1570.388    3667.700\n",
       "engine_displacement          -3.1757      1.368     -2.322      0.020      -5.856      -0.495\n",
       "engine_power               4239.4598     76.487     55.427      0.000    4089.545    4389.375\n",
       "manufacture_year           1094.0159     59.168     18.490      0.000     978.046    1209.986\n",
       "Location_Kochi              1.99e+04   8885.727      2.240      0.025    2486.254    3.73e+04\n",
       "Location_Coimbatore        2.391e+04   8883.550      2.692      0.007    6498.526    4.13e+04\n",
       "Location_Bangalore         6470.4788   8926.251      0.725      0.469    -1.1e+04     2.4e+04\n",
       "Location_Kolkata           1.511e+04   8931.233      1.692      0.091   -2394.143    3.26e+04\n",
       "Location_Mumbai             1.22e+04   8934.585      1.366      0.172   -5309.766    2.97e+04\n",
       "Location_Jaipur            1.718e+04   8930.896      1.924      0.054    -322.123    3.47e+04\n",
       "Location_Delhi             7940.5989   8952.043      0.887      0.375   -9605.481    2.55e+04\n",
       "Location_Pune              1.208e+04   8935.398      1.352      0.177   -5436.817    2.96e+04\n",
       "Location_Chennai           1.957e+04   8946.002      2.188      0.029    2035.739    3.71e+04\n",
       "Location_Hyderabad         1.384e+04   8961.184      1.544      0.123   -3727.172    3.14e+04\n",
       "Maker_skoda               -6.721e+05   6.54e+04    -10.279      0.000      -8e+05   -5.44e+05\n",
       "Maker_toyota              -6.467e+05    6.1e+04    -10.594      0.000   -7.66e+05   -5.27e+05\n",
       "Maker_audi                -1.949e+05   7.29e+04     -2.674      0.008   -3.38e+05    -5.2e+04\n",
       "Maker_bmw                 -1.034e+05   5.67e+04     -1.825      0.068   -2.15e+05    7674.021\n",
       "Maker_nissan              -5.578e+05   5.73e+04     -9.728      0.000    -6.7e+05   -4.45e+05\n",
       "Maker_hyundai             -8.706e+05   7.93e+04    -10.984      0.000   -1.03e+06   -7.15e+05\n",
       "Maker_fiat                 2.666e+05   8.82e+04      3.022      0.003    9.37e+04    4.39e+05\n",
       "Owner Type_First           8871.7406   5359.736      1.655      0.098   -1633.387    1.94e+04\n",
       "Owner Type_Third           -978.9955   5361.391     -0.183      0.855   -1.15e+04    9529.376\n",
       "Owner Type_Fourth & Above -3792.2794   5364.571     -0.707      0.480   -1.43e+04    6722.324\n",
       "door_count_4              -3.051e+04   3.27e+04     -0.933      0.351   -9.46e+04    3.36e+04\n",
       "door_count_5              -5.093e+04   3.31e+04     -1.539      0.124   -1.16e+05    1.39e+04\n",
       "door_count_2               1.828e+05   3.32e+04      5.510      0.000    1.18e+05    2.48e+05\n",
       "fuel_type_diesel           3.896e+04   4649.972      8.378      0.000    2.98e+04    4.81e+04\n",
       "model_octavia             -7118.3542   1.22e+04     -0.585      0.558   -3.09e+04    1.67e+04\n",
       "model_superb               4.211e+04   1.34e+04      3.143      0.002    1.59e+04    6.84e+04\n",
       "model_yaris               -1.843e+05   1.73e+04    -10.648      0.000   -2.18e+05    -1.5e+05\n",
       "model_qashqai             -2.322e+04   2.06e+04     -1.129      0.259   -6.35e+04    1.71e+04\n",
       "model_x3                   4.936e+04   2.03e+04      2.433      0.015    9603.528    8.91e+04\n",
       "model_x1                  -1.943e+05   2.08e+04     -9.358      0.000   -2.35e+05   -1.54e+05\n",
       "model_i30                 -2.041e+04   3.94e+04     -0.518      0.605   -9.77e+04    5.68e+04\n",
       "model_q5                   3.401e+05   2.19e+04     15.565      0.000    2.97e+05    3.83e+05\n",
       "model_x5                   4.153e+04   2.03e+04      2.044      0.041    1702.114    8.14e+04\n",
       "model_yeti                 4.655e+04   1.44e+04      3.231      0.001    1.83e+04    7.48e+04\n",
       "model_panda               -1.063e+06   5.62e+04    -18.923      0.000   -1.17e+06   -9.53e+05\n",
       "model_q3                   2.433e+05   2.24e+04     10.869      0.000    1.99e+05    2.87e+05\n",
       "model_coupe                3.277e+04   2.11e+04      1.551      0.121   -8639.452    7.42e+04\n",
       "model_micra               -2.615e+05   2.15e+04    -12.180      0.000   -3.04e+05   -2.19e+05\n",
       "model_auris               -1.237e+05   1.81e+04     -6.850      0.000   -1.59e+05   -8.83e+04\n",
       "model_avensis             -1.135e+04   1.82e+04     -0.625      0.532    -4.7e+04    2.43e+04\n",
       "model_aygo                -3.273e+05   1.94e+04    -16.874      0.000   -3.65e+05   -2.89e+05\n",
       "model_rapid               -2.005e+05   1.56e+04    -12.883      0.000   -2.31e+05    -1.7e+05\n",
       "model_roomster             -1.42e+05   1.57e+04     -9.043      0.000   -1.73e+05   -1.11e+05\n",
       "model_q7                   5.968e+05    2.4e+04     24.860      0.000     5.5e+05    6.44e+05\n",
       "model_citigo              -4.111e+05   1.84e+04    -22.347      0.000   -4.47e+05   -3.75e+05\n",
       "model_juke                -2.731e+05   2.22e+04    -12.315      0.000   -3.17e+05    -2.3e+05\n",
       "seat_count_5              -1.041e+05   8.47e+04     -1.229      0.219    -2.7e+05    6.19e+04\n",
       "seat_count_4              -1.871e+05   8.55e+04     -2.187      0.029   -3.55e+05   -1.94e+04\n",
       "seat_count_7               7.972e+04   8.58e+04      0.930      0.353   -8.84e+04    2.48e+05\n",
       "seat_count_2              -1.784e+05   8.73e+04     -2.043      0.041    -3.5e+05   -7248.707\n",
       "seat_count_3               6.649e+05   9.59e+04      6.932      0.000    4.77e+05    8.53e+05\n",
       "transmission_man          -2.133e+05   5089.859    -41.902      0.000   -2.23e+05   -2.03e+05\n",
       "==============================================================================\n",
       "Omnibus:                    62912.314   Durbin-Watson:                   1.994\n",
       "Prob(Omnibus):                  0.000   Jarque-Bera (JB):         42815060.961\n",
       "Skew:                           5.560   Prob(JB):                         0.00\n",
       "Kurtosis:                     141.122   Cond. No.                     3.00e+21\n",
       "==============================================================================\n",
       "\n",
       "Warnings:\n",
       "[1] Standard Errors assume that the covariance matrix of the errors is correctly specified.\n",
       "[2] The smallest eigenvalue is 4.93e-28. This might indicate that there are\n",
       "strong multicollinearity problems or that the design matrix is singular.\n",
       "\"\"\""
      ]
     },
     "execution_count": 117,
     "metadata": {},
     "output_type": "execute_result"
    }
   ],
   "source": [
    "inp_c=sm.add_constant(X)\n",
    "ols1=sm.OLS(y,inp_c)\n",
    "mod1=ols1.fit()\n",
    "mod1.summary()"
   ]
  },
  {
   "cell_type": "code",
   "execution_count": 118,
   "metadata": {},
   "outputs": [
    {
     "name": "stdout",
     "output_type": "stream",
     "text": [
      "The final features trough backward eliminations are : Index(['Age of car', 'Distance ', 'engine_displacement', 'engine_power',\n",
      "       'manufacture_year', 'Maker_skoda', 'Maker_toyota', 'Maker_audi',\n",
      "       'Maker_nissan', 'Maker_hyundai', 'Maker_fiat', 'Owner Type_First',\n",
      "       'door_count_5', 'door_count_2', 'fuel_type_diesel', 'model_superb',\n",
      "       'model_yaris', 'model_x1', 'model_q5', 'model_yeti', 'model_panda',\n",
      "       'model_q3', 'model_coupe', 'model_micra', 'model_auris', 'model_aygo',\n",
      "       'model_rapid', 'model_roomster', 'model_q7', 'model_citigo',\n",
      "       'model_juke', 'seat_count_5', 'seat_count_4', 'seat_count_2',\n",
      "       'seat_count_3', 'transmission_man'],\n",
      "      dtype='object')\n"
     ]
    }
   ],
   "source": [
    "while(len(X.columns)>0):\n",
    "    inp_c=sm.add_constant(X)\n",
    "    ols_pf=sm.OLS(np.asarray(y),inp_c)\n",
    "    mod_pf=ols_pf.fit()\n",
    "    f=mod_pf.pvalues[1:].idxmax()\n",
    "    if mod_pf.pvalues[1:].max()>0.05:\n",
    "        X = X.drop(f,1)\n",
    "    else:\n",
    "        break\n",
    "print('The final features trough backward eliminations are :',X.columns)"
   ]
  },
  {
   "cell_type": "code",
   "execution_count": 119,
   "metadata": {},
   "outputs": [
    {
     "data": {
      "text/html": [
       "<table class=\"simpletable\">\n",
       "<caption>OLS Regression Results</caption>\n",
       "<tr>\n",
       "  <th>Dep. Variable:</th>            <td>y</td>        <th>  R-squared:         </th>  <td>   0.731</td>  \n",
       "</tr>\n",
       "<tr>\n",
       "  <th>Model:</th>                   <td>OLS</td>       <th>  Adj. R-squared:    </th>  <td>   0.731</td>  \n",
       "</tr>\n",
       "<tr>\n",
       "  <th>Method:</th>             <td>Least Squares</td>  <th>  F-statistic:       </th>  <td>   4146.</td>  \n",
       "</tr>\n",
       "<tr>\n",
       "  <th>Date:</th>             <td>Tue, 04 Aug 2020</td> <th>  Prob (F-statistic):</th>   <td>  0.00</td>   \n",
       "</tr>\n",
       "<tr>\n",
       "  <th>Time:</th>                 <td>16:45:44</td>     <th>  Log-Likelihood:    </th> <td>-7.7110e+05</td>\n",
       "</tr>\n",
       "<tr>\n",
       "  <th>No. Observations:</th>      <td> 53515</td>      <th>  AIC:               </th>  <td>1.542e+06</td> \n",
       "</tr>\n",
       "<tr>\n",
       "  <th>Df Residuals:</th>          <td> 53479</td>      <th>  BIC:               </th>  <td>1.543e+06</td> \n",
       "</tr>\n",
       "<tr>\n",
       "  <th>Df Model:</th>              <td>    35</td>      <th>                     </th>      <td> </td>     \n",
       "</tr>\n",
       "<tr>\n",
       "  <th>Covariance Type:</th>      <td>nonrobust</td>    <th>                     </th>      <td> </td>     \n",
       "</tr>\n",
       "</table>\n",
       "<table class=\"simpletable\">\n",
       "<tr>\n",
       "           <td></td>              <th>coef</th>     <th>std err</th>      <th>t</th>      <th>P>|t|</th>  <th>[0.025</th>    <th>0.975]</th>  \n",
       "</tr>\n",
       "<tr>\n",
       "  <th>const</th>               <td>  -41.3107</td> <td>    0.242</td> <td> -170.791</td> <td> 0.000</td> <td>  -41.785</td> <td>  -40.837</td>\n",
       "</tr>\n",
       "<tr>\n",
       "  <th>Age of car</th>          <td> -8.45e+04</td> <td>  490.908</td> <td> -172.139</td> <td> 0.000</td> <td>-8.55e+04</td> <td>-8.35e+04</td>\n",
       "</tr>\n",
       "<tr>\n",
       "  <th>Distance </th>           <td>   -0.1705</td> <td>    0.007</td> <td>  -23.703</td> <td> 0.000</td> <td>   -0.185</td> <td>   -0.156</td>\n",
       "</tr>\n",
       "<tr>\n",
       "  <th>engine_displacement</th> <td>   -3.2190</td> <td>    1.367</td> <td>   -2.355</td> <td> 0.019</td> <td>   -5.898</td> <td>   -0.540</td>\n",
       "</tr>\n",
       "<tr>\n",
       "  <th>engine_power</th>        <td> 4234.5329</td> <td>   72.460</td> <td>   58.440</td> <td> 0.000</td> <td> 4092.511</td> <td> 4376.554</td>\n",
       "</tr>\n",
       "<tr>\n",
       "  <th>manufacture_year</th>    <td> 1097.9463</td> <td>   11.394</td> <td>   96.361</td> <td> 0.000</td> <td> 1075.614</td> <td> 1120.279</td>\n",
       "</tr>\n",
       "<tr>\n",
       "  <th>Maker_skoda</th>         <td>-6.228e+05</td> <td> 9365.774</td> <td>  -66.497</td> <td> 0.000</td> <td>-6.41e+05</td> <td>-6.04e+05</td>\n",
       "</tr>\n",
       "<tr>\n",
       "  <th>Maker_toyota</th>        <td>-6.016e+05</td> <td> 1.39e+04</td> <td>  -43.366</td> <td> 0.000</td> <td>-6.29e+05</td> <td>-5.74e+05</td>\n",
       "</tr>\n",
       "<tr>\n",
       "  <th>Maker_audi</th>          <td>-1.444e+05</td> <td> 1.83e+04</td> <td>   -7.902</td> <td> 0.000</td> <td> -1.8e+05</td> <td>-1.09e+05</td>\n",
       "</tr>\n",
       "<tr>\n",
       "  <th>Maker_nissan</th>        <td>-5.242e+05</td> <td> 1.19e+04</td> <td>  -43.937</td> <td> 0.000</td> <td>-5.48e+05</td> <td>-5.01e+05</td>\n",
       "</tr>\n",
       "<tr>\n",
       "  <th>Maker_hyundai</th>       <td>-8.337e+05</td> <td> 1.33e+04</td> <td>  -62.900</td> <td> 0.000</td> <td> -8.6e+05</td> <td>-8.08e+05</td>\n",
       "</tr>\n",
       "<tr>\n",
       "  <th>Maker_fiat</th>          <td> 3.135e+05</td> <td> 5.42e+04</td> <td>    5.785</td> <td> 0.000</td> <td> 2.07e+05</td> <td>  4.2e+05</td>\n",
       "</tr>\n",
       "<tr>\n",
       "  <th>Owner Type_First</th>    <td> 1.041e+04</td> <td> 4373.509</td> <td>    2.380</td> <td> 0.017</td> <td> 1838.281</td> <td>  1.9e+04</td>\n",
       "</tr>\n",
       "<tr>\n",
       "  <th>door_count_5</th>        <td>-2.071e+04</td> <td> 5989.251</td> <td>   -3.458</td> <td> 0.001</td> <td>-3.25e+04</td> <td>-8973.319</td>\n",
       "</tr>\n",
       "<tr>\n",
       "  <th>door_count_2</th>        <td> 2.132e+05</td> <td> 1.08e+04</td> <td>   19.681</td> <td> 0.000</td> <td> 1.92e+05</td> <td> 2.34e+05</td>\n",
       "</tr>\n",
       "<tr>\n",
       "  <th>fuel_type_diesel</th>    <td> 3.873e+04</td> <td> 4644.750</td> <td>    8.339</td> <td> 0.000</td> <td> 2.96e+04</td> <td> 4.78e+04</td>\n",
       "</tr>\n",
       "<tr>\n",
       "  <th>model_superb</th>        <td> 4.953e+04</td> <td> 8979.706</td> <td>    5.516</td> <td> 0.000</td> <td> 3.19e+04</td> <td> 6.71e+04</td>\n",
       "</tr>\n",
       "<tr>\n",
       "  <th>model_yaris</th>         <td>-1.731e+05</td> <td> 1.44e+04</td> <td>  -12.043</td> <td> 0.000</td> <td>-2.01e+05</td> <td>-1.45e+05</td>\n",
       "</tr>\n",
       "<tr>\n",
       "  <th>model_x1</th>            <td> -2.41e+05</td> <td> 1.15e+04</td> <td>  -21.000</td> <td> 0.000</td> <td>-2.64e+05</td> <td>-2.19e+05</td>\n",
       "</tr>\n",
       "<tr>\n",
       "  <th>model_q5</th>            <td> 3.464e+05</td> <td> 1.97e+04</td> <td>   17.548</td> <td> 0.000</td> <td> 3.08e+05</td> <td> 3.85e+05</td>\n",
       "</tr>\n",
       "<tr>\n",
       "  <th>model_yeti</th>          <td> 5.359e+04</td> <td> 1.11e+04</td> <td>    4.824</td> <td> 0.000</td> <td> 3.18e+04</td> <td> 7.54e+04</td>\n",
       "</tr>\n",
       "<tr>\n",
       "  <th>model_panda</th>         <td>-1.055e+06</td> <td> 5.47e+04</td> <td>  -19.265</td> <td> 0.000</td> <td>-1.16e+06</td> <td>-9.47e+05</td>\n",
       "</tr>\n",
       "<tr>\n",
       "  <th>model_q3</th>            <td> 2.495e+05</td> <td> 2.02e+04</td> <td>   12.343</td> <td> 0.000</td> <td>  2.1e+05</td> <td> 2.89e+05</td>\n",
       "</tr>\n",
       "<tr>\n",
       "  <th>model_coupe</th>         <td> 4.108e+04</td> <td> 1.84e+04</td> <td>    2.237</td> <td> 0.025</td> <td> 5088.710</td> <td> 7.71e+04</td>\n",
       "</tr>\n",
       "<tr>\n",
       "  <th>model_micra</th>         <td>-2.389e+05</td> <td> 1.48e+04</td> <td>  -16.176</td> <td> 0.000</td> <td>-2.68e+05</td> <td> -2.1e+05</td>\n",
       "</tr>\n",
       "<tr>\n",
       "  <th>model_auris</th>         <td>-1.125e+05</td> <td>  1.6e+04</td> <td>   -7.033</td> <td> 0.000</td> <td>-1.44e+05</td> <td>-8.11e+04</td>\n",
       "</tr>\n",
       "<tr>\n",
       "  <th>model_aygo</th>          <td>-3.171e+05</td> <td> 1.89e+04</td> <td>  -16.738</td> <td> 0.000</td> <td>-3.54e+05</td> <td> -2.8e+05</td>\n",
       "</tr>\n",
       "<tr>\n",
       "  <th>model_rapid</th>         <td>-1.937e+05</td> <td>  1.3e+04</td> <td>  -14.933</td> <td> 0.000</td> <td>-2.19e+05</td> <td>-1.68e+05</td>\n",
       "</tr>\n",
       "<tr>\n",
       "  <th>model_roomster</th>      <td>-1.353e+05</td> <td>  1.3e+04</td> <td>  -10.416</td> <td> 0.000</td> <td>-1.61e+05</td> <td> -1.1e+05</td>\n",
       "</tr>\n",
       "<tr>\n",
       "  <th>model_q7</th>            <td>  6.04e+05</td> <td> 2.22e+04</td> <td>   27.214</td> <td> 0.000</td> <td>  5.6e+05</td> <td> 6.47e+05</td>\n",
       "</tr>\n",
       "<tr>\n",
       "  <th>model_citigo</th>        <td>-4.024e+05</td> <td> 1.77e+04</td> <td>  -22.795</td> <td> 0.000</td> <td>-4.37e+05</td> <td>-3.68e+05</td>\n",
       "</tr>\n",
       "<tr>\n",
       "  <th>model_juke</th>          <td>-2.501e+05</td> <td> 1.66e+04</td> <td>  -15.106</td> <td> 0.000</td> <td>-2.83e+05</td> <td>-2.18e+05</td>\n",
       "</tr>\n",
       "<tr>\n",
       "  <th>seat_count_5</th>        <td>-1.804e+05</td> <td> 1.67e+04</td> <td>  -10.794</td> <td> 0.000</td> <td>-2.13e+05</td> <td>-1.48e+05</td>\n",
       "</tr>\n",
       "<tr>\n",
       "  <th>seat_count_4</th>        <td>-2.623e+05</td> <td> 2.05e+04</td> <td>  -12.796</td> <td> 0.000</td> <td>-3.02e+05</td> <td>-2.22e+05</td>\n",
       "</tr>\n",
       "<tr>\n",
       "  <th>seat_count_2</th>        <td> -2.51e+05</td> <td> 2.69e+04</td> <td>   -9.323</td> <td> 0.000</td> <td>-3.04e+05</td> <td>-1.98e+05</td>\n",
       "</tr>\n",
       "<tr>\n",
       "  <th>seat_count_3</th>        <td> 5.861e+05</td> <td>  4.8e+04</td> <td>   12.211</td> <td> 0.000</td> <td> 4.92e+05</td> <td>  6.8e+05</td>\n",
       "</tr>\n",
       "<tr>\n",
       "  <th>transmission_man</th>    <td> -2.13e+05</td> <td> 5083.023</td> <td>  -41.908</td> <td> 0.000</td> <td>-2.23e+05</td> <td>-2.03e+05</td>\n",
       "</tr>\n",
       "</table>\n",
       "<table class=\"simpletable\">\n",
       "<tr>\n",
       "  <th>Omnibus:</th>       <td>62911.112</td> <th>  Durbin-Watson:     </th>   <td>   1.994</td>  \n",
       "</tr>\n",
       "<tr>\n",
       "  <th>Prob(Omnibus):</th>  <td> 0.000</td>   <th>  Jarque-Bera (JB):  </th> <td>42825973.984</td>\n",
       "</tr>\n",
       "<tr>\n",
       "  <th>Skew:</th>           <td> 5.560</td>   <th>  Prob(JB):          </th>   <td>    0.00</td>  \n",
       "</tr>\n",
       "<tr>\n",
       "  <th>Kurtosis:</th>       <td>141.140</td>  <th>  Cond. No.          </th>   <td>3.00e+21</td>  \n",
       "</tr>\n",
       "</table><br/><br/>Warnings:<br/>[1] Standard Errors assume that the covariance matrix of the errors is correctly specified.<br/>[2] The smallest eigenvalue is 4.94e-28. This might indicate that there are<br/>strong multicollinearity problems or that the design matrix is singular."
      ],
      "text/plain": [
       "<class 'statsmodels.iolib.summary.Summary'>\n",
       "\"\"\"\n",
       "                            OLS Regression Results                            \n",
       "==============================================================================\n",
       "Dep. Variable:                      y   R-squared:                       0.731\n",
       "Model:                            OLS   Adj. R-squared:                  0.731\n",
       "Method:                 Least Squares   F-statistic:                     4146.\n",
       "Date:                Tue, 04 Aug 2020   Prob (F-statistic):               0.00\n",
       "Time:                        16:45:44   Log-Likelihood:            -7.7110e+05\n",
       "No. Observations:               53515   AIC:                         1.542e+06\n",
       "Df Residuals:                   53479   BIC:                         1.543e+06\n",
       "Df Model:                          35                                         \n",
       "Covariance Type:            nonrobust                                         \n",
       "=======================================================================================\n",
       "                          coef    std err          t      P>|t|      [0.025      0.975]\n",
       "---------------------------------------------------------------------------------------\n",
       "const                 -41.3107      0.242   -170.791      0.000     -41.785     -40.837\n",
       "Age of car           -8.45e+04    490.908   -172.139      0.000   -8.55e+04   -8.35e+04\n",
       "Distance               -0.1705      0.007    -23.703      0.000      -0.185      -0.156\n",
       "engine_displacement    -3.2190      1.367     -2.355      0.019      -5.898      -0.540\n",
       "engine_power         4234.5329     72.460     58.440      0.000    4092.511    4376.554\n",
       "manufacture_year     1097.9463     11.394     96.361      0.000    1075.614    1120.279\n",
       "Maker_skoda         -6.228e+05   9365.774    -66.497      0.000   -6.41e+05   -6.04e+05\n",
       "Maker_toyota        -6.016e+05   1.39e+04    -43.366      0.000   -6.29e+05   -5.74e+05\n",
       "Maker_audi          -1.444e+05   1.83e+04     -7.902      0.000    -1.8e+05   -1.09e+05\n",
       "Maker_nissan        -5.242e+05   1.19e+04    -43.937      0.000   -5.48e+05   -5.01e+05\n",
       "Maker_hyundai       -8.337e+05   1.33e+04    -62.900      0.000    -8.6e+05   -8.08e+05\n",
       "Maker_fiat           3.135e+05   5.42e+04      5.785      0.000    2.07e+05     4.2e+05\n",
       "Owner Type_First     1.041e+04   4373.509      2.380      0.017    1838.281     1.9e+04\n",
       "door_count_5        -2.071e+04   5989.251     -3.458      0.001   -3.25e+04   -8973.319\n",
       "door_count_2         2.132e+05   1.08e+04     19.681      0.000    1.92e+05    2.34e+05\n",
       "fuel_type_diesel     3.873e+04   4644.750      8.339      0.000    2.96e+04    4.78e+04\n",
       "model_superb         4.953e+04   8979.706      5.516      0.000    3.19e+04    6.71e+04\n",
       "model_yaris         -1.731e+05   1.44e+04    -12.043      0.000   -2.01e+05   -1.45e+05\n",
       "model_x1             -2.41e+05   1.15e+04    -21.000      0.000   -2.64e+05   -2.19e+05\n",
       "model_q5             3.464e+05   1.97e+04     17.548      0.000    3.08e+05    3.85e+05\n",
       "model_yeti           5.359e+04   1.11e+04      4.824      0.000    3.18e+04    7.54e+04\n",
       "model_panda         -1.055e+06   5.47e+04    -19.265      0.000   -1.16e+06   -9.47e+05\n",
       "model_q3             2.495e+05   2.02e+04     12.343      0.000     2.1e+05    2.89e+05\n",
       "model_coupe          4.108e+04   1.84e+04      2.237      0.025    5088.710    7.71e+04\n",
       "model_micra         -2.389e+05   1.48e+04    -16.176      0.000   -2.68e+05    -2.1e+05\n",
       "model_auris         -1.125e+05    1.6e+04     -7.033      0.000   -1.44e+05   -8.11e+04\n",
       "model_aygo          -3.171e+05   1.89e+04    -16.738      0.000   -3.54e+05    -2.8e+05\n",
       "model_rapid         -1.937e+05    1.3e+04    -14.933      0.000   -2.19e+05   -1.68e+05\n",
       "model_roomster      -1.353e+05    1.3e+04    -10.416      0.000   -1.61e+05    -1.1e+05\n",
       "model_q7              6.04e+05   2.22e+04     27.214      0.000     5.6e+05    6.47e+05\n",
       "model_citigo        -4.024e+05   1.77e+04    -22.795      0.000   -4.37e+05   -3.68e+05\n",
       "model_juke          -2.501e+05   1.66e+04    -15.106      0.000   -2.83e+05   -2.18e+05\n",
       "seat_count_5        -1.804e+05   1.67e+04    -10.794      0.000   -2.13e+05   -1.48e+05\n",
       "seat_count_4        -2.623e+05   2.05e+04    -12.796      0.000   -3.02e+05   -2.22e+05\n",
       "seat_count_2         -2.51e+05   2.69e+04     -9.323      0.000   -3.04e+05   -1.98e+05\n",
       "seat_count_3         5.861e+05    4.8e+04     12.211      0.000    4.92e+05     6.8e+05\n",
       "transmission_man     -2.13e+05   5083.023    -41.908      0.000   -2.23e+05   -2.03e+05\n",
       "==============================================================================\n",
       "Omnibus:                    62911.112   Durbin-Watson:                   1.994\n",
       "Prob(Omnibus):                  0.000   Jarque-Bera (JB):         42825973.984\n",
       "Skew:                           5.560   Prob(JB):                         0.00\n",
       "Kurtosis:                     141.140   Cond. No.                     3.00e+21\n",
       "==============================================================================\n",
       "\n",
       "Warnings:\n",
       "[1] Standard Errors assume that the covariance matrix of the errors is correctly specified.\n",
       "[2] The smallest eigenvalue is 4.94e-28. This might indicate that there are\n",
       "strong multicollinearity problems or that the design matrix is singular.\n",
       "\"\"\""
      ]
     },
     "execution_count": 119,
     "metadata": {},
     "output_type": "execute_result"
    }
   ],
   "source": [
    "mod_pf.summary()"
   ]
  },
  {
   "cell_type": "code",
   "execution_count": 120,
   "metadata": {},
   "outputs": [],
   "source": [
    "X = train_data[X.columns]\n",
    "y = train_data['Price']"
   ]
  },
  {
   "cell_type": "code",
   "execution_count": 121,
   "metadata": {},
   "outputs": [],
   "source": [
    "x_train,x_test,y_train,y_test = train_test_split(X,y,test_size=0.2,random_state=12)"
   ]
  },
  {
   "cell_type": "code",
   "execution_count": 122,
   "metadata": {},
   "outputs": [
    {
     "data": {
      "text/plain": [
       "LinearRegression(copy_X=True, fit_intercept=True, n_jobs=None, normalize=False)"
      ]
     },
     "execution_count": 122,
     "metadata": {},
     "output_type": "execute_result"
    }
   ],
   "source": [
    "lr1 = LinearRegression()\n",
    "lr1.fit(x_train,y_train)"
   ]
  },
  {
   "cell_type": "code",
   "execution_count": 123,
   "metadata": {},
   "outputs": [],
   "source": [
    "y_pred1 = lr1.predict(x_test)"
   ]
  },
  {
   "cell_type": "code",
   "execution_count": 124,
   "metadata": {},
   "outputs": [
    {
     "data": {
      "text/plain": [
       "415666.85538707435"
      ]
     },
     "execution_count": 124,
     "metadata": {},
     "output_type": "execute_result"
    }
   ],
   "source": [
    "mean_squared_error(y_test,y_pred1)**0.5"
   ]
  },
  {
   "cell_type": "code",
   "execution_count": 125,
   "metadata": {},
   "outputs": [],
   "source": [
    "from sklearn.ensemble import RandomForestRegressor"
   ]
  },
  {
   "cell_type": "code",
   "execution_count": 126,
   "metadata": {},
   "outputs": [],
   "source": [
    "rf = RandomForestRegressor()"
   ]
  },
  {
   "cell_type": "code",
   "execution_count": 127,
   "metadata": {},
   "outputs": [
    {
     "data": {
      "text/plain": [
       "RandomForestRegressor(bootstrap=True, ccp_alpha=0.0, criterion='mse',\n",
       "                      max_depth=None, max_features='auto', max_leaf_nodes=None,\n",
       "                      max_samples=None, min_impurity_decrease=0.0,\n",
       "                      min_impurity_split=None, min_samples_leaf=1,\n",
       "                      min_samples_split=2, min_weight_fraction_leaf=0.0,\n",
       "                      n_estimators=100, n_jobs=None, oob_score=False,\n",
       "                      random_state=None, verbose=0, warm_start=False)"
      ]
     },
     "execution_count": 127,
     "metadata": {},
     "output_type": "execute_result"
    }
   ],
   "source": [
    "rf.fit(x_train,y_train)"
   ]
  },
  {
   "cell_type": "code",
   "execution_count": null,
   "metadata": {},
   "outputs": [],
   "source": []
  },
  {
   "cell_type": "code",
   "execution_count": 128,
   "metadata": {},
   "outputs": [],
   "source": [
    "y_pred_rf = rf.predict(x_test)"
   ]
  },
  {
   "cell_type": "code",
   "execution_count": 129,
   "metadata": {},
   "outputs": [
    {
     "data": {
      "text/plain": [
       "196027.9086612079"
      ]
     },
     "execution_count": 129,
     "metadata": {},
     "output_type": "execute_result"
    }
   ],
   "source": [
    "mean_squared_error(y_test,y_pred_rf)**0.5"
   ]
  },
  {
   "cell_type": "code",
   "execution_count": 130,
   "metadata": {},
   "outputs": [],
   "source": [
    "sub = pd.read_csv('Sample Submission-1.csv')"
   ]
  },
  {
   "cell_type": "code",
   "execution_count": 131,
   "metadata": {},
   "outputs": [
    {
     "data": {
      "text/html": [
       "<div>\n",
       "<style scoped>\n",
       "    .dataframe tbody tr th:only-of-type {\n",
       "        vertical-align: middle;\n",
       "    }\n",
       "\n",
       "    .dataframe tbody tr th {\n",
       "        vertical-align: top;\n",
       "    }\n",
       "\n",
       "    .dataframe thead th {\n",
       "        text-align: right;\n",
       "    }\n",
       "</style>\n",
       "<table border=\"1\" class=\"dataframe\">\n",
       "  <thead>\n",
       "    <tr style=\"text-align: right;\">\n",
       "      <th></th>\n",
       "      <th>Unique Id</th>\n",
       "      <th>Price</th>\n",
       "    </tr>\n",
       "  </thead>\n",
       "  <tbody>\n",
       "    <tr>\n",
       "      <td>0</td>\n",
       "      <td>11001</td>\n",
       "      <td>375147.00</td>\n",
       "    </tr>\n",
       "    <tr>\n",
       "      <td>1</td>\n",
       "      <td>11002</td>\n",
       "      <td>1193368.50</td>\n",
       "    </tr>\n",
       "    <tr>\n",
       "      <td>2</td>\n",
       "      <td>11003</td>\n",
       "      <td>1523871.00</td>\n",
       "    </tr>\n",
       "    <tr>\n",
       "      <td>3</td>\n",
       "      <td>11004</td>\n",
       "      <td>2180268.00</td>\n",
       "    </tr>\n",
       "    <tr>\n",
       "      <td>4</td>\n",
       "      <td>11005</td>\n",
       "      <td>2704149.75</td>\n",
       "    </tr>\n",
       "  </tbody>\n",
       "</table>\n",
       "</div>"
      ],
      "text/plain": [
       "   Unique Id       Price\n",
       "0      11001   375147.00\n",
       "1      11002  1193368.50\n",
       "2      11003  1523871.00\n",
       "3      11004  2180268.00\n",
       "4      11005  2704149.75"
      ]
     },
     "execution_count": 131,
     "metadata": {},
     "output_type": "execute_result"
    }
   ],
   "source": [
    "sub.head()"
   ]
  },
  {
   "cell_type": "code",
   "execution_count": 132,
   "metadata": {},
   "outputs": [
    {
     "data": {
      "text/plain": [
       "(5615, 2)"
      ]
     },
     "execution_count": 132,
     "metadata": {},
     "output_type": "execute_result"
    }
   ],
   "source": [
    "sub.shape"
   ]
  },
  {
   "cell_type": "code",
   "execution_count": 136,
   "metadata": {},
   "outputs": [
    {
     "data": {
      "text/plain": [
       "(10703, 36)"
      ]
     },
     "execution_count": 136,
     "metadata": {},
     "output_type": "execute_result"
    }
   ],
   "source": [
    "x_test.shape"
   ]
  },
  {
   "cell_type": "code",
   "execution_count": 137,
   "metadata": {},
   "outputs": [],
   "source": [
    "to_test = test_data[X.columns]"
   ]
  },
  {
   "cell_type": "code",
   "execution_count": 138,
   "metadata": {},
   "outputs": [],
   "source": [
    "final_pred = rf.predict(to_test)"
   ]
  },
  {
   "cell_type": "code",
   "execution_count": 139,
   "metadata": {},
   "outputs": [],
   "source": [
    "sub['Price'] = final_pred"
   ]
  },
  {
   "cell_type": "code",
   "execution_count": 140,
   "metadata": {},
   "outputs": [
    {
     "data": {
      "text/html": [
       "<div>\n",
       "<style scoped>\n",
       "    .dataframe tbody tr th:only-of-type {\n",
       "        vertical-align: middle;\n",
       "    }\n",
       "\n",
       "    .dataframe tbody tr th {\n",
       "        vertical-align: top;\n",
       "    }\n",
       "\n",
       "    .dataframe thead th {\n",
       "        text-align: right;\n",
       "    }\n",
       "</style>\n",
       "<table border=\"1\" class=\"dataframe\">\n",
       "  <thead>\n",
       "    <tr style=\"text-align: right;\">\n",
       "      <th></th>\n",
       "      <th>Unique Id</th>\n",
       "      <th>Price</th>\n",
       "    </tr>\n",
       "  </thead>\n",
       "  <tbody>\n",
       "    <tr>\n",
       "      <td>0</td>\n",
       "      <td>11001</td>\n",
       "      <td>3.754257e+05</td>\n",
       "    </tr>\n",
       "    <tr>\n",
       "      <td>1</td>\n",
       "      <td>11002</td>\n",
       "      <td>9.632316e+05</td>\n",
       "    </tr>\n",
       "    <tr>\n",
       "      <td>2</td>\n",
       "      <td>11003</td>\n",
       "      <td>1.332016e+06</td>\n",
       "    </tr>\n",
       "    <tr>\n",
       "      <td>3</td>\n",
       "      <td>11004</td>\n",
       "      <td>2.371267e+06</td>\n",
       "    </tr>\n",
       "    <tr>\n",
       "      <td>4</td>\n",
       "      <td>11005</td>\n",
       "      <td>2.959400e+06</td>\n",
       "    </tr>\n",
       "  </tbody>\n",
       "</table>\n",
       "</div>"
      ],
      "text/plain": [
       "   Unique Id         Price\n",
       "0      11001  3.754257e+05\n",
       "1      11002  9.632316e+05\n",
       "2      11003  1.332016e+06\n",
       "3      11004  2.371267e+06\n",
       "4      11005  2.959400e+06"
      ]
     },
     "execution_count": 140,
     "metadata": {},
     "output_type": "execute_result"
    }
   ],
   "source": [
    "sub.head()"
   ]
  },
  {
   "cell_type": "code",
   "execution_count": 141,
   "metadata": {},
   "outputs": [],
   "source": [
    "sub.to_csv('submission1.csv',index=False)"
   ]
  },
  {
   "cell_type": "code",
   "execution_count": 144,
   "metadata": {},
   "outputs": [
    {
     "data": {
      "text/plain": [
       "RandomForestRegressor(bootstrap=True, ccp_alpha=0.0, criterion='mse',\n",
       "                      max_depth=None, max_features='auto', max_leaf_nodes=None,\n",
       "                      max_samples=None, min_impurity_decrease=0.0,\n",
       "                      min_impurity_split=None, min_samples_leaf=1,\n",
       "                      min_samples_split=2, min_weight_fraction_leaf=0.0,\n",
       "                      n_estimators=100, n_jobs=None, oob_score=False,\n",
       "                      random_state=None, verbose=0, warm_start=False)"
      ]
     },
     "execution_count": 144,
     "metadata": {},
     "output_type": "execute_result"
    }
   ],
   "source": [
    "rf_final = RandomForestRegressor()\n",
    "rf_final.fit(X,y)"
   ]
  },
  {
   "cell_type": "code",
   "execution_count": 146,
   "metadata": {},
   "outputs": [],
   "source": [
    "final_pred1 = rf_final.predict(to_test)"
   ]
  },
  {
   "cell_type": "code",
   "execution_count": 147,
   "metadata": {},
   "outputs": [],
   "source": [
    "sub = pd.read_csv('Sample Submission-1.csv')\n",
    "sub['Price'] = final_pred1"
   ]
  },
  {
   "cell_type": "code",
   "execution_count": 148,
   "metadata": {},
   "outputs": [
    {
     "data": {
      "text/html": [
       "<div>\n",
       "<style scoped>\n",
       "    .dataframe tbody tr th:only-of-type {\n",
       "        vertical-align: middle;\n",
       "    }\n",
       "\n",
       "    .dataframe tbody tr th {\n",
       "        vertical-align: top;\n",
       "    }\n",
       "\n",
       "    .dataframe thead th {\n",
       "        text-align: right;\n",
       "    }\n",
       "</style>\n",
       "<table border=\"1\" class=\"dataframe\">\n",
       "  <thead>\n",
       "    <tr style=\"text-align: right;\">\n",
       "      <th></th>\n",
       "      <th>Unique Id</th>\n",
       "      <th>Price</th>\n",
       "    </tr>\n",
       "  </thead>\n",
       "  <tbody>\n",
       "    <tr>\n",
       "      <td>0</td>\n",
       "      <td>11001</td>\n",
       "      <td>3.746136e+05</td>\n",
       "    </tr>\n",
       "    <tr>\n",
       "      <td>1</td>\n",
       "      <td>11002</td>\n",
       "      <td>9.652757e+05</td>\n",
       "    </tr>\n",
       "    <tr>\n",
       "      <td>2</td>\n",
       "      <td>11003</td>\n",
       "      <td>1.322271e+06</td>\n",
       "    </tr>\n",
       "    <tr>\n",
       "      <td>3</td>\n",
       "      <td>11004</td>\n",
       "      <td>2.381362e+06</td>\n",
       "    </tr>\n",
       "    <tr>\n",
       "      <td>4</td>\n",
       "      <td>11005</td>\n",
       "      <td>3.066930e+06</td>\n",
       "    </tr>\n",
       "  </tbody>\n",
       "</table>\n",
       "</div>"
      ],
      "text/plain": [
       "   Unique Id         Price\n",
       "0      11001  3.746136e+05\n",
       "1      11002  9.652757e+05\n",
       "2      11003  1.322271e+06\n",
       "3      11004  2.381362e+06\n",
       "4      11005  3.066930e+06"
      ]
     },
     "execution_count": 148,
     "metadata": {},
     "output_type": "execute_result"
    }
   ],
   "source": [
    "sub.head()"
   ]
  },
  {
   "cell_type": "code",
   "execution_count": 149,
   "metadata": {},
   "outputs": [],
   "source": [
    "sub.to_csv('submission2.csv',index=False)"
   ]
  },
  {
   "cell_type": "code",
   "execution_count": 150,
   "metadata": {},
   "outputs": [],
   "source": [
    "from sklearn.preprocessing import StandardScaler"
   ]
  },
  {
   "cell_type": "code",
   "execution_count": 151,
   "metadata": {},
   "outputs": [],
   "source": [
    "sc = StandardScaler()"
   ]
  },
  {
   "cell_type": "code",
   "execution_count": 152,
   "metadata": {},
   "outputs": [],
   "source": [
    "x_train_sc = sc.fit_transform(x_train)\n",
    "x_test_sc = sc.fit_transform(x_test)"
   ]
  },
  {
   "cell_type": "code",
   "execution_count": 155,
   "metadata": {},
   "outputs": [
    {
     "data": {
      "text/plain": [
       "RandomForestRegressor(bootstrap=True, ccp_alpha=0.0, criterion='mse',\n",
       "                      max_depth=None, max_features='auto', max_leaf_nodes=None,\n",
       "                      max_samples=None, min_impurity_decrease=0.0,\n",
       "                      min_impurity_split=None, min_samples_leaf=1,\n",
       "                      min_samples_split=2, min_weight_fraction_leaf=0.0,\n",
       "                      n_estimators=100, n_jobs=None, oob_score=False,\n",
       "                      random_state=None, verbose=0, warm_start=False)"
      ]
     },
     "execution_count": 155,
     "metadata": {},
     "output_type": "execute_result"
    }
   ],
   "source": [
    "rf_sc = RandomForestRegressor()\n",
    "rf_sc.fit(x_train,y_train)"
   ]
  },
  {
   "cell_type": "code",
   "execution_count": 156,
   "metadata": {},
   "outputs": [
    {
     "data": {
      "text/plain": [
       "196986.40594560385"
      ]
     },
     "execution_count": 156,
     "metadata": {},
     "output_type": "execute_result"
    }
   ],
   "source": [
    "y_pred_rf_sc = rf_sc.predict(x_test)\n",
    "mean_squared_error(y_test,y_pred_rf_sc)**0.5"
   ]
  },
  {
   "cell_type": "code",
   "execution_count": 157,
   "metadata": {},
   "outputs": [],
   "source": [
    "import xgboost as xgb"
   ]
  },
  {
   "cell_type": "code",
   "execution_count": 183,
   "metadata": {},
   "outputs": [],
   "source": [
    "xgb_mod = xgb.XGBRegressor(max_depth=10,learning_rate=0.5)"
   ]
  },
  {
   "cell_type": "code",
   "execution_count": 184,
   "metadata": {},
   "outputs": [
    {
     "name": "stderr",
     "output_type": "stream",
     "text": [
      "C:\\Users\\Pavan\\AppData\\Roaming\\Python\\Python37\\site-packages\\xgboost\\core.py:587: FutureWarning: Series.base is deprecated and will be removed in a future version\n",
      "  if getattr(data, 'base', None) is not None and \\\n"
     ]
    },
    {
     "name": "stdout",
     "output_type": "stream",
     "text": [
      "[17:33:04] WARNING: C:/Jenkins/workspace/xgboost-win64_release_0.90/src/objective/regression_obj.cu:152: reg:linear is now deprecated in favor of reg:squarederror.\n"
     ]
    },
    {
     "data": {
      "text/plain": [
       "XGBRegressor(base_score=0.5, booster='gbtree', colsample_bylevel=1,\n",
       "             colsample_bynode=1, colsample_bytree=1, gamma=0,\n",
       "             importance_type='gain', learning_rate=0.5, max_delta_step=0,\n",
       "             max_depth=10, min_child_weight=1, missing=None, n_estimators=100,\n",
       "             n_jobs=1, nthread=None, objective='reg:linear', random_state=0,\n",
       "             reg_alpha=0, reg_lambda=1, scale_pos_weight=1, seed=None,\n",
       "             silent=None, subsample=1, verbosity=1)"
      ]
     },
     "execution_count": 184,
     "metadata": {},
     "output_type": "execute_result"
    }
   ],
   "source": [
    "xgb_mod.fit(x_train,y_train)"
   ]
  },
  {
   "cell_type": "code",
   "execution_count": 182,
   "metadata": {},
   "outputs": [
    {
     "data": {
      "text/plain": [
       "216198.72806610478"
      ]
     },
     "execution_count": 182,
     "metadata": {},
     "output_type": "execute_result"
    }
   ],
   "source": [
    "y_pred_xg = xgb_mod.predict(x_test)\n",
    "mean_squared_error(y_test,y_pred_xg)**0.5"
   ]
  },
  {
   "cell_type": "code",
   "execution_count": 170,
   "metadata": {},
   "outputs": [
    {
     "name": "stderr",
     "output_type": "stream",
     "text": [
      "C:\\Users\\Pavan\\AppData\\Roaming\\Python\\Python37\\site-packages\\xgboost\\core.py:587: FutureWarning: Series.base is deprecated and will be removed in a future version\n",
      "  if getattr(data, 'base', None) is not None and \\\n",
      "C:\\Users\\Pavan\\AppData\\Roaming\\Python\\Python37\\site-packages\\xgboost\\core.py:588: FutureWarning: Series.base is deprecated and will be removed in a future version\n",
      "  data.base is not None and isinstance(data, np.ndarray) \\\n"
     ]
    },
    {
     "name": "stdout",
     "output_type": "stream",
     "text": [
      "[17:27:07] WARNING: C:/Jenkins/workspace/xgboost-win64_release_0.90/src/objective/regression_obj.cu:152: reg:linear is now deprecated in favor of reg:squarederror.\n"
     ]
    },
    {
     "data": {
      "text/plain": [
       "XGBRegressor(base_score=0.5, booster='gbtree', colsample_bylevel=1,\n",
       "             colsample_bynode=1, colsample_bytree=1, gamma=0,\n",
       "             importance_type='gain', learning_rate=0.1, max_delta_step=0,\n",
       "             max_depth=10, min_child_weight=1, missing=None, n_estimators=100,\n",
       "             n_jobs=1, nthread=None, objective='reg:linear', random_state=0,\n",
       "             reg_alpha=0, reg_lambda=1, scale_pos_weight=1, seed=None,\n",
       "             silent=None, subsample=1, verbosity=1)"
      ]
     },
     "execution_count": 170,
     "metadata": {},
     "output_type": "execute_result"
    }
   ],
   "source": [
    "xgb_mod = xgb.XGBRegressor(max_depth=10)\n",
    "xgb_mod.fit(X,y)\n",
    "#y_pred_xg = xgb_mod.predict(x_test)"
   ]
  },
  {
   "cell_type": "code",
   "execution_count": 171,
   "metadata": {},
   "outputs": [],
   "source": [
    "y_pred_xg = xgb_mod.predict(to_test)"
   ]
  },
  {
   "cell_type": "code",
   "execution_count": 172,
   "metadata": {},
   "outputs": [],
   "source": [
    "sub = pd.read_csv('Sample Submission-1.csv')\n",
    "sub['Price'] = y_pred_xg\n",
    "sub.to_csv('submission4.csv',index=False)"
   ]
  },
  {
   "cell_type": "code",
   "execution_count": 173,
   "metadata": {},
   "outputs": [
    {
     "data": {
      "text/html": [
       "<div>\n",
       "<style scoped>\n",
       "    .dataframe tbody tr th:only-of-type {\n",
       "        vertical-align: middle;\n",
       "    }\n",
       "\n",
       "    .dataframe tbody tr th {\n",
       "        vertical-align: top;\n",
       "    }\n",
       "\n",
       "    .dataframe thead th {\n",
       "        text-align: right;\n",
       "    }\n",
       "</style>\n",
       "<table border=\"1\" class=\"dataframe\">\n",
       "  <thead>\n",
       "    <tr style=\"text-align: right;\">\n",
       "      <th></th>\n",
       "      <th>Unique Id</th>\n",
       "      <th>Price</th>\n",
       "    </tr>\n",
       "  </thead>\n",
       "  <tbody>\n",
       "    <tr>\n",
       "      <td>0</td>\n",
       "      <td>11001</td>\n",
       "      <td>3.989111e+05</td>\n",
       "    </tr>\n",
       "    <tr>\n",
       "      <td>1</td>\n",
       "      <td>11002</td>\n",
       "      <td>1.018983e+06</td>\n",
       "    </tr>\n",
       "    <tr>\n",
       "      <td>2</td>\n",
       "      <td>11003</td>\n",
       "      <td>1.477694e+06</td>\n",
       "    </tr>\n",
       "    <tr>\n",
       "      <td>3</td>\n",
       "      <td>11004</td>\n",
       "      <td>2.361950e+06</td>\n",
       "    </tr>\n",
       "    <tr>\n",
       "      <td>4</td>\n",
       "      <td>11005</td>\n",
       "      <td>2.976288e+06</td>\n",
       "    </tr>\n",
       "  </tbody>\n",
       "</table>\n",
       "</div>"
      ],
      "text/plain": [
       "   Unique Id         Price\n",
       "0      11001  3.989111e+05\n",
       "1      11002  1.018983e+06\n",
       "2      11003  1.477694e+06\n",
       "3      11004  2.361950e+06\n",
       "4      11005  2.976288e+06"
      ]
     },
     "execution_count": 173,
     "metadata": {},
     "output_type": "execute_result"
    }
   ],
   "source": [
    "sub.head()"
   ]
  },
  {
   "cell_type": "code",
   "execution_count": null,
   "metadata": {},
   "outputs": [],
   "source": []
  }
 ],
 "metadata": {
  "kernelspec": {
   "display_name": "Python 3",
   "language": "python",
   "name": "python3"
  },
  "language_info": {
   "codemirror_mode": {
    "name": "ipython",
    "version": 3
   },
   "file_extension": ".py",
   "mimetype": "text/x-python",
   "name": "python",
   "nbconvert_exporter": "python",
   "pygments_lexer": "ipython3",
   "version": "3.7.6"
  }
 },
 "nbformat": 4,
 "nbformat_minor": 2
}
